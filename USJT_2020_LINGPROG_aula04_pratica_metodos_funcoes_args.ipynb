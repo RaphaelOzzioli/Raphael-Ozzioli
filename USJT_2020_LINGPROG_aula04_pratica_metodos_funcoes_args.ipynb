{
  "nbformat": 4,
  "nbformat_minor": 0,
  "metadata": {
    "colab": {
      "name": "USJT-2020-LINGPROG-aula04-pratica-metodos-funcoes-args.ipynb",
      "provenance": [],
      "include_colab_link": true
    },
    "kernelspec": {
      "display_name": "Python 3",
      "language": "python",
      "name": "python3"
    },
    "language_info": {
      "codemirror_mode": {
        "name": "ipython",
        "version": 3
      },
      "file_extension": ".py",
      "mimetype": "text/x-python",
      "name": "python",
      "nbconvert_exporter": "python",
      "pygments_lexer": "ipython3",
      "version": "3.6.4"
    }
  },
  "cells": [
    {
      "cell_type": "markdown",
      "metadata": {
        "id": "view-in-github",
        "colab_type": "text"
      },
      "source": [
        "<a href=\"https://colab.research.google.com/github/phclosou/Raphael-Ozzioli/blob/master/USJT_2020_LINGPROG_aula04_pratica_metodos_funcoes_args.ipynb\" target=\"_parent\"><img src=\"https://colab.research.google.com/assets/colab-badge.svg\" alt=\"Open In Colab\"/></a>"
      ]
    },
    {
      "cell_type": "markdown",
      "metadata": {
        "id": "qo33zTW-rkq-",
        "colab_type": "text"
      },
      "source": [
        "![logo_usjt.png](https://www.usjt.br/app/themes/mobister/dist/images/sao-judas-universidade.png)"
      ]
    },
    {
      "cell_type": "markdown",
      "metadata": {
        "id": "iKNbeycjrkq_",
        "colab_type": "text"
      },
      "source": [
        "# Paradigmas de Linguagens de Programação\n",
        "- **Professor**: Sergio Bonato <antonio.bonato@saojudas.br>"
      ]
    },
    {
      "cell_type": "markdown",
      "metadata": {
        "id": "YWAnQHE3rkrB",
        "colab_type": "text"
      },
      "source": [
        "# Atividade04 - Python Básico - Funções\n",
        "\n",
        "**Conteúdo:**\n",
        "- funções \n",
        "- escopo de variáveis\n",
        "- args e kwargs"
      ]
    },
    {
      "cell_type": "markdown",
      "metadata": {
        "id": "ckukPKq3rkrC",
        "colab_type": "text"
      },
      "source": [
        "## Autor\n",
        "- **Aluno:** Raphael Martinez Duarte Ozzioli\n",
        "\n",
        "Obs: as tarefas devem ser individuais."
      ]
    },
    {
      "cell_type": "markdown",
      "metadata": {
        "id": "LKkB_1AArkrD",
        "colab_type": "text"
      },
      "source": [
        "## Exercícios"
      ]
    },
    {
      "cell_type": "markdown",
      "metadata": {
        "id": "u9VNqIFVrkrE",
        "colab_type": "text"
      },
      "source": [
        "**1 Menor de dois pares:** Escreva uma função que retorne o menor de dois números dados se ambos os números forem pares, mas retorna o maior se um dos dois for ímpar. Exemplo:\n",
        "```\n",
        "menor_de_dois_pares(2,4) --> 2\n",
        "menor_de_dois_pares (2,5) --> 5\n",
        "```"
      ]
    },
    {
      "cell_type": "code",
      "metadata": {
        "id": "RCfx0b3WrkrF",
        "colab_type": "code",
        "colab": {}
      },
      "source": [
        "def menorDeDoisPares(n1, n2):\n",
        "    if n1 % 2 == 0 and n2 % 2 ==0:\n",
        "        if n1 > n2:\n",
        "            print(n2)\n",
        "        else:\n",
        "            print(n1)\n",
        "    else:\n",
        "        if n1 > n2:\n",
        "            print(n1)\n",
        "        else:\n",
        "            print(n2)  \n",
        "     \n",
        "menorDeDoisPares(4,8)"
      ],
      "execution_count": 0,
      "outputs": []
    },
    {
      "cell_type": "markdown",
      "metadata": {
        "id": "wBRm_zmirkrM",
        "colab_type": "text"
      },
      "source": [
        "**2 Mesma letra:** Escreva uma função que receba uma string com duas palavras e retorne True se ambas palavras começarem com a mesma letra. Exemplo:\n",
        "```\n",
        "mesma_letra('Cão covarde') -> True\n",
        "mesma_letra('Vira Lata') -> False\n",
        "```"
      ]
    },
    {
      "cell_type": "code",
      "metadata": {
        "id": "NgK-dHmdrkrN",
        "colab_type": "code",
        "colab": {}
      },
      "source": [
        "#def mesma_letra(palavra):\n",
        "    \n",
        "    partes = palavra.split(\" \");\n",
        "    if partes[0][0].upper() == partes[1][0].upper():\n",
        "        return True\n",
        "    return False\n",
        "\n",
        "mesma_letra(\"Cão covarde\")"
      ],
      "execution_count": 0,
      "outputs": []
    },
    {
      "cell_type": "markdown",
      "metadata": {
        "id": "txPkdfCQrkrT",
        "colab_type": "text"
      },
      "source": [
        "**3 Tem 33:** Faça uma função que retorne True se, dada uma lista de inteiros, houver em alguma posição da lista um 3 do lado de outro 3. Exemplo:\n",
        "```\n",
        "tem_33([1,3,3]) --> True\n",
        "tem_33([1,3,1,3]) --> False\n",
        "tem_33([3,1,3]) --> False\n",
        "```"
      ]
    },
    {
      "cell_type": "code",
      "metadata": {
        "id": "l1kH4dESrkrU",
        "colab_type": "code",
        "colab": {}
      },
      "source": [
        "def acha_perdido (lista):\n",
        "    estado = 'nada'\n",
        "    for n in lista:\n",
        "        if n == 3 and estado == 'nada':\n",
        "            estado = '3'\n",
        "        elif n == 3 and estado == '3':\n",
        "            estado = '33'\n",
        "            print (\"Sim, ele esta aqui\")\n",
        "            break\n",
        "        elif estado == '3' and n !=3:\n",
        "            estado = 'nada'\n",
        "        \n",
        "acha_perdido([0,1,2,0,3,3,5]) \n",
        "acha_perdido([1,3,3,2,4,4,7])"
      ],
      "execution_count": 0,
      "outputs": []
    },
    {
      "cell_type": "markdown",
      "metadata": {
        "id": "6XJVySovrkrZ",
        "colab_type": "text"
      },
      "source": [
        "**4 Blackjack:** Faça uma função que receba 3 inteiros entre 1 e 11. Se a soma deles for menor que 21, retorne o valor da soma. Se for mair do que 21 e houver um 11, subtraia 10 da soma antes de apresentar o resultado. Se o valor da soma passar de 21, retorne ‘ESTOUROU’. Exemplo:\n",
        "```\n",
        "blackjack(5,6,7) --> 18\n",
        "blackjack(9,9,9) --> 'ESTOUROU'\n",
        "blackjack(9,9,11) --> 19\n",
        "```"
      ]
    },
    {
      "cell_type": "code",
      "metadata": {
        "id": "gNxhNP8Urkra",
        "colab_type": "code",
        "colab": {}
      },
      "source": [
        "def blackjack(n1, n2, n3):\n",
        "    soma=n1 + n2 + n3\n",
        "    if soma <= 21:\n",
        "        return soma\n",
        "    else:\n",
        "        if 11 in [n1, n2, n3]:\n",
        "            return soma - 10\n",
        "        return ('ESTOUROU',soma)\n",
        "\n",
        "print(blackjack(5,6,7))\n",
        "print(blackjack(9,9,9))\n",
        "print(blackjack(9,9,11))"
      ],
      "execution_count": 0,
      "outputs": []
    },
    {
      "cell_type": "markdown",
      "metadata": {
        "id": "vVKGjMSmrkre",
        "colab_type": "text"
      },
      "source": [
        "**5 Espião:** Escreva uma função que receba uma lista de inteiros e retorne True se contém um 007 em ordem, mesmo que não contínuo. Exemplo:\n",
        "```\n",
        "espiao([1,2,4,0,0,7,5]) --> True\n",
        "espiao([1,0,2,4,0,5,7]) --> True\n",
        "espiao([1,7,2,4,0,5,0]) --> False\n",
        "```"
      ]
    },
    {
      "cell_type": "code",
      "metadata": {
        "id": "OjHr6E2jrkrf",
        "colab_type": "code",
        "colab": {}
      },
      "source": [
        "#soluçãodef espiao(lista):\n",
        "    estado=\"nada\"\n",
        "    for simbolo in lista:\n",
        "        if simbolo == 0:\n",
        "            if estado == \"nada\":\n",
        "                estado = \"zero\"\n",
        "            elif estado == \"zero\":\n",
        "                estado = \"zero zero\"\n",
        "        elif simbolo == 7:\n",
        "            if estado == \"zero zero\":\n",
        "                estado = \"zero zero sete\"\n",
        "                return True\n",
        "            else:\n",
        "                return False"
      ],
      "execution_count": 0,
      "outputs": []
    }
  ]
}