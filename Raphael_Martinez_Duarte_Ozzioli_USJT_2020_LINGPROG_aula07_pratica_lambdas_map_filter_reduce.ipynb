{
  "nbformat": 4,
  "nbformat_minor": 0,
  "metadata": {
    "kernelspec": {
      "display_name": "Python 3",
      "language": "python",
      "name": "python3"
    },
    "language_info": {
      "codemirror_mode": {
        "name": "ipython",
        "version": 3
      },
      "file_extension": ".py",
      "mimetype": "text/x-python",
      "name": "python",
      "nbconvert_exporter": "python",
      "pygments_lexer": "ipython3",
      "version": "3.6.4"
    },
    "colab": {
      "name": "Raphael Martinez Duarte Ozzioli - USJT-2020-LINGPROG-aula07-pratica-lambdas-map-filter-reduce.ipynb",
      "provenance": [],
      "include_colab_link": true
    }
  },
  "cells": [
    {
      "cell_type": "markdown",
      "metadata": {
        "id": "view-in-github",
        "colab_type": "text"
      },
      "source": [
        "<a href=\"https://colab.research.google.com/github/phclosou/Raphael-Ozzioli/blob/master/Raphael_Martinez_Duarte_Ozzioli_USJT_2020_LINGPROG_aula07_pratica_lambdas_map_filter_reduce.ipynb\" target=\"_parent\"><img src=\"https://colab.research.google.com/assets/colab-badge.svg\" alt=\"Open In Colab\"/></a>"
      ]
    },
    {
      "cell_type": "markdown",
      "metadata": {
        "id": "lY89scoCe9xY",
        "colab_type": "text"
      },
      "source": [
        "![logo_usjt.png](https://www.usjt.br/app/themes/mobister/dist/images/sao-judas-universidade.png)"
      ]
    },
    {
      "cell_type": "markdown",
      "metadata": {
        "id": "8EF3SEIJe9xa",
        "colab_type": "text"
      },
      "source": [
        "# Paradigmas de Linguagens de Programação\n",
        "- **Professor**: Sergio Bonato <antonio.bonato@saojudas.br>"
      ]
    },
    {
      "cell_type": "markdown",
      "metadata": {
        "id": "KLvuNZYue9xc",
        "colab_type": "text"
      },
      "source": [
        "# Atividade07 - Python - Expressões Lambda - Map, Filter, Reduce\n",
        "**Conteúdo:**\n",
        "- expressões lambda\n",
        "- *ands* e *ors*\n",
        "- expressões if\n",
        "- função map\n",
        "- função filter\n",
        "- função reduce\n",
        "- funções zip e enumerate"
      ]
    },
    {
      "cell_type": "markdown",
      "metadata": {
        "id": "QkCGoxeTe9xd",
        "colab_type": "text"
      },
      "source": [
        "## Autor\n",
        "- **Aluno:**\n",
        "\n",
        "Obs: as tarefas devem ser individuais."
      ]
    },
    {
      "cell_type": "markdown",
      "metadata": {
        "id": "AsOdxUTNe9xe",
        "colab_type": "text"
      },
      "source": [
        "### As questões desta atividade são as mesmas da atividade anterior. Só que, desta vez, devem ser resolvidas usando uma ou mais expressões lambda, recursivas ou não. Mas, em vez de recursão, dê preferência ao uso de map, filter e reduce. Não se preocupe com validações ou try-excepts. Mantenha os mesmos testes unitários usando asserts."
      ]
    },
    {
      "cell_type": "markdown",
      "metadata": {
        "id": "qUv79Dyoe9xf",
        "colab_type": "text"
      },
      "source": [
        "**1** Defina a função soma_nat que recebe como argumento um número natural  n\n",
        "  e devolve a soma de todos os números naturais até  n.\n",
        "```\n",
        "Ex: soma_nat(5) = 15\n",
        "```"
      ]
    },
    {
      "cell_type": "code",
      "metadata": {
        "id": "43mXHj2he9xh",
        "colab_type": "code",
        "colab": {}
      },
      "source": [
        "#solução\n",
        "soma_nat = lambda n: n + soma_nat(n - 1) if n > 0 else 0\n",
        "print(soma_nat(5))\n",
        "\n"
      ],
      "execution_count": 0,
      "outputs": []
    },
    {
      "cell_type": "markdown",
      "metadata": {
        "id": "TkJWcXSde9xm",
        "colab_type": "text"
      },
      "source": [
        "2 Defina a função div que recebe como argumentos dois números naturais  m\n",
        "  e  n  e devolve o resultado da divisão inteira de  m  por  n. Neste exercício você não pode recorrer às operações aritméticas de multiplicação, divisão e resto da divisão inteira.\n",
        "```\n",
        "Ex: div(7,2) = \n",
        "```"
      ]
    },
    {
      "cell_type": "code",
      "metadata": {
        "id": "Lo9G4cW4e9xn",
        "colab_type": "code",
        "colab": {}
      },
      "source": [
        "#solução\n",
        "div = lambda m,n: 1 + div(m - n, n) if m >= n else 0\n",
        "assert(div(7,2) == 3)\n",
        "print(div(7,2))\n",
        "\n"
      ],
      "execution_count": 0,
      "outputs": []
    },
    {
      "cell_type": "markdown",
      "metadata": {
        "id": "1Xby_PWXe9xq",
        "colab_type": "text"
      },
      "source": [
        "**3** Defina a função prim_alg que recebe como argumento um número natural e devolve o primeiro algarismo (o mais significativo) na representação decimal de  n.\n",
        "```\n",
        "Ex: prim_alg(5649) = 5\n",
        "Ex: prim_alg(7) = 7\n",
        "```"
      ]
    },
    {
      "cell_type": "code",
      "metadata": {
        "id": "SgxSHcTQe9xr",
        "colab_type": "code",
        "colab": {}
      },
      "source": [
        "#solução\n",
        "prim_alg = lambda n: n[0]\n",
        "\n",
        "assert(prim_alg(str(56789)) == '5')\n",
        "assert(prim_alg(str(7)) == '7')\n",
        "print (prim_alg('5649'))\n",
        "print(prim_alg('7'))\n",
        "\n"
      ],
      "execution_count": 0,
      "outputs": []
    },
    {
      "cell_type": "markdown",
      "metadata": {
        "id": "wr1L0nmLe9xu",
        "colab_type": "text"
      },
      "source": [
        "**4** Defina a função prod_lista que recebe como argumento uma lista de inteiros e devolve o produto dos seus elementos.\n",
        "```\n",
        "Ex: prod_lista([1,2,3,4,5,6]) = 720\n",
        "```"
      ]
    },
    {
      "cell_type": "code",
      "metadata": {
        "id": "Ng_6FZpoe9xv",
        "colab_type": "code",
        "colab": {}
      },
      "source": [
        "#solução\n",
        "prod_lista = lambda lista: lista[len(lista) - 1] * prod_lista(lista[:-1]) if len(lista) > 0 else 1\n",
        "\n",
        "assert(prod_lista([1,2,3,4,5,6]) == 720)\n",
        "print(prod_lista([1,2,3,4,5,6]))\n",
        "\n"
      ],
      "execution_count": 0,
      "outputs": []
    },
    {
      "cell_type": "markdown",
      "metadata": {
        "id": "R6fjqrzNe9xy",
        "colab_type": "text"
      },
      "source": [
        "**5** Defina a função contem_parQ que recebe como argumento uma lista de números inteiros  w e devolve True se w contém um número par e False em caso contrário.\n",
        "```\n",
        "Ex: contem_parQ([2,3,1,2,3,4]) = True\n",
        "Ex: contem_parQ([1,3,5,7]) = False\n",
        "```"
      ]
    },
    {
      "cell_type": "code",
      "metadata": {
        "id": "Zxm-iMIge9xy",
        "colab_type": "code",
        "colab": {}
      },
      "source": [
        "#solução\n",
        "contem_parQ = lambda w: False if len(w) == 0 or (w[len(w) - 1] % 2 != 0 and not contem_parQ(w[:-1])) else True\n",
        "assert(contem_parQ([2,3,1,2,3,4]) == True)\n",
        "assert(contem_parQ([1,3,5,7]) == False)\n",
        "\n",
        "print(contem_parQ([2,3,1,2,3,4]))\n",
        "print(contem_parQ([1,3,5,7]))\n"
      ],
      "execution_count": 0,
      "outputs": []
    },
    {
      "cell_type": "markdown",
      "metadata": {
        "id": "0FxcjhrVe9x2",
        "colab_type": "text"
      },
      "source": [
        "6 Defina a função todos_imparesQ que recebe como argumento uma lista de números inteiros w e devolve True se  w contém apenas números ímpares e False em caso contrário.\n",
        "```\n",
        "Ex: todos_imparesQ([1,3,5,7]) = True\n",
        "Ex: todos_imparesQ([]) = True\n",
        "Ex: todos_imparesQ([1,2,3,4,5]) = False\n",
        "```"
      ]
    },
    {
      "cell_type": "code",
      "metadata": {
        "id": "L7rwyAAge9x2",
        "colab_type": "code",
        "colab": {}
      },
      "source": [
        "#solução\n",
        "todos_imparesQ = lambda w: True if len(w) == 0 or (w[len(w) - 1] % 2 != 0 and todos_imparesQ(w[:-1])) else False\n",
        "\n",
        "assert(todos_imparesQ([1,3,5,7]) == True)\n",
        "assert(todos_imparesQ([]) == True)\n",
        "assert(todos_imparesQ([1,2,3,4,5]) == False)\n",
        "\n",
        "print(todos_imparesQ([1,3,5,7]))\n",
        "print(todos_imparesQ([]))\n",
        "print(todos_imparesQ([1,2,3,4,5]))\n",
        "\n",
        "\n"
      ],
      "execution_count": 0,
      "outputs": []
    },
    {
      "cell_type": "markdown",
      "metadata": {
        "id": "kyO9QCnne9x5",
        "colab_type": "text"
      },
      "source": [
        "**7** Defina a função pertenceQ que recebe como argumentos uma lista de números inteiros  w  e um número inteiro  n  e devolve True se  n  ocorre em  w  e False em caso contrário.\n",
        "```\n",
        "Ex: pertenceQ([1,2,3],1) = True\n",
        "Ex: pertenceQ([1,2,3],2) = True\n",
        "Ex: pertenceQ([1,2,3],3) = True\n",
        "Ex: pertenceQ([1,2,3],4) = False\n",
        "```"
      ]
    },
    {
      "cell_type": "code",
      "metadata": {
        "id": "e4b4MmTbe9x6",
        "colab_type": "code",
        "colab": {}
      },
      "source": [
        "#solução\n",
        "pertenceQ = lambda w, n : True if n in w else False\n",
        "\n",
        "\n",
        "assert(pertenceQ([1,2,3],1) == True)\n",
        "assert(pertenceQ([1,2,3],2) == True)\n",
        "assert(pertenceQ([1,2,3],3) == True)\n",
        "assert(pertenceQ([1,2,3],4) == False)\n",
        "\n",
        "print(pertenceQ([1,2,3],1))\n",
        "print(pertenceQ([1,2,3],2))\n",
        "print(pertenceQ([1,2,3],3))\n",
        "print(pertenceQ([1,2,3],4))\n",
        "\n",
        "\n"
      ],
      "execution_count": 0,
      "outputs": []
    },
    {
      "cell_type": "markdown",
      "metadata": {
        "id": "UyOrsdWhe9x9",
        "colab_type": "text"
      },
      "source": [
        "**8** Defina a função junta que recebe como argumentos duas listas de números inteiros  w1  e  w2  e devolve a concatenação de  w1  com  w2 .\n",
        "```\n",
        "Ex: junta([1,2,3],[4,5,6]) = [1, 2, 3, 4, 5, 6]\n",
        "Ex: junta([],[4,5,6]) = [4, 5, 6]\n",
        "Ex: junta([1,2,3],[]) = [1, 2, 3]\n",
        "```"
      ]
    },
    {
      "cell_type": "code",
      "metadata": {
        "id": "W4p4Locne9x9",
        "colab_type": "code",
        "colab": {}
      },
      "source": [
        "#solução\n",
        "junta = lambda w1, w2: w1 + w2\n",
        "\n",
        "assert(junta([1,2,3],[4,5,6]) == [1, 2, 3, 4, 5, 6] )\n",
        "assert(junta([],[4,5,6]) == [4, 5, 6] )\n",
        "assert(junta([1,2,3],[]) == [1, 2, 3])\n",
        "\n",
        "print(junta([1,2,3],[4,5,6]))\n",
        "print(junta([],[4,5,6]))\n",
        "print(junta([1,2,3],[]))\n",
        "\n"
      ],
      "execution_count": 0,
      "outputs": []
    },
    {
      "cell_type": "markdown",
      "metadata": {
        "id": "eMCYYBzWe9yB",
        "colab_type": "text"
      },
      "source": [
        "**9** Defina a função temPrimoQ que recebe como argumento uma lista de listas de números inteiros  w  e devolve True se alguma das sublistas  w  tem um número primo e False em caso contrário.\n",
        "```\n",
        "Ex: temPrimoQ([[4,4,4,4],[5,4,6,7],[2,4,3]]) = True\n",
        "Ex: temPrimoQ([[4,4,4,4],[4,4,4],[],[4]]) = False\n",
        "```"
      ]
    },
    {
      "cell_type": "code",
      "metadata": {
        "id": "fQdh8Ygfe9yB",
        "colab_type": "code",
        "colab": {}
      },
      "source": [
        "#solução\n",
        "def auxTemPrimoQ(w):\n",
        "    return not(len(w) == 0 or(not(( w[0] % 2 != 0 and\n",
        "                                    w[0] % 3 != 0 and\n",
        "                                    w[0] % 5 != 0 and\n",
        "                                    w[0] % 7 != 0 and\n",
        "                                    w[0] % 11 != 0) or w.pop() in [2,3,5,7,11]) and not auxTemPrimoQ(w)))\n",
        "\n",
        "def temPrimoQ(w):    \n",
        "    return not(len(w) == 0 or (not(auxTemPrimoQ(w.pop())) and not temPrimoQ(w)))\n",
        "\n",
        "assert(temPrimoQ([[4,4,4,4],[5,4,6,7],[2,4,3]]) == True)\n",
        "assert(temPrimoQ([[4,4,4,4],[4,4,4],[],[4]]) == False)\n",
        "\n",
        "print('temPrimoQ([[4,4,4,4],[5,4,6,7],[2,4,3]]) =',temPrimoQ([[4,4,4,4],[5,4,6,7],[2,4,3]]))\n",
        "print('temPrimoQ([[4,4,4,4],[4,4,4],[],[4]]) =',temPrimoQ([[4,4,4,4],[4,4,4],[],[4]]))\n",
        "print('temPrimoQ([[1,2,3],[1,2,3],[1,2,3],[1,2,3]]) =',temPrimoQ([[1,2,3],[1,2,3],[1,2,3],[1,2,3]]))\n",
        "\n"
      ],
      "execution_count": 0,
      "outputs": []
    },
    {
      "cell_type": "markdown",
      "metadata": {
        "id": "BNG4iLE5e9yF",
        "colab_type": "text"
      },
      "source": [
        "**10** Defina a função inverteLista que recebe como argumento uma lista  w e devolve a mesma lista mas invertida.\n",
        "```\n",
        "Ex: inverteLista([1,2,3,4,5]) = [5, 4, 3, 2, 1]\n",
        "Ex: inverteLista([])\n",
        "```"
      ]
    },
    {
      "cell_type": "code",
      "metadata": {
        "id": "X0hZILc0e9yG",
        "colab_type": "code",
        "colab": {}
      },
      "source": [
        "#solução\n",
        "inverteLista = lambda w: w[::-1]\n",
        "\n",
        "assert(inverteLista([1,2,3,4,5]) == [5, 4, 3, 2, 1] )\n",
        "\n",
        "print(inverteLista([1,2,3,4,5]))\n",
        "print(inverteLista([]))\n",
        "\n"
      ],
      "execution_count": 0,
      "outputs": []
    }
  ]
}