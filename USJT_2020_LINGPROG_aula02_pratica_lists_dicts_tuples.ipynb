{
  "nbformat": 4,
  "nbformat_minor": 0,
  "metadata": {
    "colab": {
      "name": "USJT-2020-LINGPROG-aula02-pratica-lists-dicts-tuples.ipynb",
      "provenance": [],
      "include_colab_link": true
    },
    "kernelspec": {
      "display_name": "Python 3",
      "language": "python",
      "name": "python3"
    },
    "language_info": {
      "codemirror_mode": {
        "name": "ipython",
        "version": 3
      },
      "file_extension": ".py",
      "mimetype": "text/x-python",
      "name": "python",
      "nbconvert_exporter": "python",
      "pygments_lexer": "ipython3",
      "version": "3.6.4"
    }
  },
  "cells": [
    {
      "cell_type": "markdown",
      "metadata": {
        "id": "view-in-github",
        "colab_type": "text"
      },
      "source": [
        "<a href=\"https://colab.research.google.com/github/phclosou/Raphael-Ozzioli/blob/master/USJT_2020_LINGPROG_aula02_pratica_lists_dicts_tuples.ipynb\" target=\"_parent\"><img src=\"https://colab.research.google.com/assets/colab-badge.svg\" alt=\"Open In Colab\"/></a>"
      ]
    },
    {
      "cell_type": "markdown",
      "metadata": {
        "id": "QDNxJPcG4RvS",
        "colab_type": "text"
      },
      "source": [
        "![logo_usjt.png](https://www.usjt.br/app/themes/mobister/dist/images/sao-judas-universidade.png)"
      ]
    },
    {
      "cell_type": "markdown",
      "metadata": {
        "id": "S3DZem3u4RvV",
        "colab_type": "text"
      },
      "source": [
        "# Paradigmas de Linguagens de Programação\n",
        "- **Professor**: Sergio Bonato <antonio.bonato@saojudas.br>"
      ]
    },
    {
      "cell_type": "markdown",
      "metadata": {
        "id": "W6_3Mvti4RvX",
        "colab_type": "text"
      },
      "source": [
        "# Atividade02 - Python Básico - Estruturas de Dados\n",
        "\n",
        "**Conteúdo:**\n",
        "- Listas\n",
        "- Dicionários \n",
        "- Tuplas\n",
        "- Sets"
      ]
    },
    {
      "cell_type": "markdown",
      "metadata": {
        "id": "ojq-Krma4RvY",
        "colab_type": "text"
      },
      "source": [
        "## Autor\n",
        "- **Aluno:**\n",
        "\n",
        "Obs: as tarefas devem ser individuais."
      ]
    },
    {
      "cell_type": "markdown",
      "metadata": {
        "id": "QeEihC6f4RvZ",
        "colab_type": "text"
      },
      "source": [
        "## Exercícios"
      ]
    },
    {
      "cell_type": "markdown",
      "metadata": {
        "id": "tjBn83bM4Rva",
        "colab_type": "text"
      },
      "source": [
        "#### 1 Escreva um programa que some todos os itens da lista:\n",
        "`[1,2,3,4,5,6,7,8,9,10]`."
      ]
    },
    {
      "cell_type": "code",
      "metadata": {
        "id": "QcuYtEbm4Rvb",
        "colab_type": "code",
        "colab": {
          "base_uri": "https://localhost:8080/",
          "height": 34
        },
        "outputId": "d07a7a03-293c-4480-f46f-f6c67b8c2fe2"
      },
      "source": [
        "#solução\n",
        "lista = [1,2,3,4,5,6,7,8,9,10]\n",
        "\n",
        "sum (lista)"
      ],
      "execution_count": 1,
      "outputs": [
        {
          "output_type": "execute_result",
          "data": {
            "text/plain": [
              "55"
            ]
          },
          "metadata": {
            "tags": []
          },
          "execution_count": 1
        }
      ]
    },
    {
      "cell_type": "markdown",
      "metadata": {
        "id": "A2IUm9uJ4Rvg",
        "colab_type": "text"
      },
      "source": [
        "#### 2 Escreva um programa que some todos os valores do dicionário:\n",
        "`{'a':1, 'b':2, 'c':3, 'd':4, 'e':5, 'f':6, 'g':7, 'h':8, 'i':9, 'j':10}`."
      ]
    },
    {
      "cell_type": "code",
      "metadata": {
        "id": "sdpmO9pe4Rvh",
        "colab_type": "code",
        "colab": {
          "base_uri": "https://localhost:8080/",
          "height": 34
        },
        "outputId": "a9f007f3-1be6-4d5d-fe79-1da812b3c35f"
      },
      "source": [
        "#solução\n",
        "\n",
        "dicio = {'a':1, 'b':2, 'c':3, 'd':4, 'e':5, 'f':6, 'g':7, 'h':8, 'i':9, 'j':10}\n",
        "total = sum(map(lambda dicio:float(dicio),dicio.values()))\n",
        "print (total)"
      ],
      "execution_count": 6,
      "outputs": [
        {
          "output_type": "stream",
          "text": [
            "55.0\n"
          ],
          "name": "stdout"
        }
      ]
    },
    {
      "cell_type": "markdown",
      "metadata": {
        "id": "peHwh7M84Rvl",
        "colab_type": "text"
      },
      "source": [
        "#### 3 Escreva um programa que some todos os itens da tupla:\n",
        "`(1,2,3,4,5,6,7,8,9,10)`."
      ]
    },
    {
      "cell_type": "code",
      "metadata": {
        "id": "pvuoh7mH4Rvm",
        "colab_type": "code",
        "colab": {
          "base_uri": "https://localhost:8080/",
          "height": 34
        },
        "outputId": "5cddb676-65b5-4629-ae93-7b3996c048ac"
      },
      "source": [
        "#solução\n",
        "tuplera = (1,2,3,4,5,6,7,8,9,10)\n",
        "sum (tuplera)"
      ],
      "execution_count": 7,
      "outputs": [
        {
          "output_type": "execute_result",
          "data": {
            "text/plain": [
              "55"
            ]
          },
          "metadata": {
            "tags": []
          },
          "execution_count": 7
        }
      ]
    },
    {
      "cell_type": "markdown",
      "metadata": {
        "id": "dMXG2it84Rvq",
        "colab_type": "text"
      },
      "source": [
        "#### 4 Crie um programa que recebe uma lista de números e\n",
        "- retorne o maior elemento\n",
        "- retorne a soma dos elementos\n",
        "- retorne o número de ocorrências do primeiro elemento da lista\n",
        "- retorne a média dos elementos\n",
        "- retorne a mediana dos elementos (procure mediana na Wikipedia)"
      ]
    },
    {
      "cell_type": "code",
      "metadata": {
        "id": "sHTxLeBf4Rvr",
        "colab_type": "code",
        "colab": {}
      },
      "source": [
        "#solução\n",
        "numeros = [int(input(\"Número: \")) for i in range(10)]\n",
        "print (\"O maior número é: \", max(numeros))\n",
        "print (\"A soma dos elementos é: \", sum(numeros))\n",
        "print (\"Ocorrência do primeiro número ao longo da lista\", numeros.count(5))\n",
        "qtd = len(numeros)\n",
        "media = sum(numeros)/qtd\n",
        "print (media)\n",
        "statisics.median (numeros)\n"
      ],
      "execution_count": 0,
      "outputs": []
    },
    {
      "cell_type": "markdown",
      "metadata": {
        "id": "7VlvZ-_v4Rvv",
        "colab_type": "text"
      },
      "source": [
        "#### 5 Escreva um programa que lê duas notas de 5 alunos e armazena tais notas em um dicionário, onde a chave é o nome do aluno.  Depois o programa deve retornar a média do aluno, dado seu nome."
      ]
    },
    {
      "cell_type": "code",
      "metadata": {
        "id": "YgIwOvkR4Rvw",
        "colab_type": "code",
        "colab": {
          "base_uri": "https://localhost:8080/",
          "height": 198
        },
        "outputId": "af06b8cf-de72-4b53-be71-9c0922bff8eb"
      },
      "source": [
        "#solução\n",
        "\n",
        "dicio = {Pedro:[8 , 7], Maria:[10,8],Rose:[7,5], Leo:[5,4],Marcela[7,5]}\n"
      ],
      "execution_count": 29,
      "outputs": [
        {
          "output_type": "error",
          "ename": "AttributeError",
          "evalue": "ignored",
          "traceback": [
            "\u001b[0;31m---------------------------------------------------------------------------\u001b[0m",
            "\u001b[0;31mAttributeError\u001b[0m                            Traceback (most recent call last)",
            "\u001b[0;32m<ipython-input-29-9ba1ad53adee>\u001b[0m in \u001b[0;36m<module>\u001b[0;34m()\u001b[0m\n\u001b[1;32m      1\u001b[0m \u001b[0;34m\u001b[0m\u001b[0m\n\u001b[1;32m      2\u001b[0m \u001b[0mdicio\u001b[0m \u001b[0;34m=\u001b[0m \u001b[0;34m{\u001b[0m\u001b[0;34m}\u001b[0m\u001b[0;34m\u001b[0m\u001b[0;34m\u001b[0m\u001b[0m\n\u001b[0;32m----> 3\u001b[0;31m \u001b[0mdicio\u001b[0m\u001b[0;34m.\u001b[0m\u001b[0madd\u001b[0m\u001b[0;34m(\u001b[0m\u001b[0;34m)\u001b[0m\u001b[0;34m\u001b[0m\u001b[0;34m\u001b[0m\u001b[0m\n\u001b[0m",
            "\u001b[0;31mAttributeError\u001b[0m: 'dict' object has no attribute 'add'"
          ]
        }
      ]
    },
    {
      "cell_type": "markdown",
      "metadata": {
        "id": "g0sdubw04Rv0",
        "colab_type": "text"
      },
      "source": [
        "#### 6 Escreva um programa para armazenar uma agenda de telefones em um dicionário. Cada pessoa pode ter um ou mais telefones e a chave do dicionário é o nome da pessoa. Seu programa deve ter as seguintes funcionalidades:\n",
        "- incluirNovoNome – essa função acrescenta um novo nome na agenda, com um ou mais telefones. Ela deve receber como argumentos o nome e os telefones.\n",
        "- incluirTelefone – essa função acrescenta um telefone em um nome existente na agenda. Caso o nome não exista na agenda, você̂ deve perguntar se a pessoa deseja inclui-lo. Caso a resposta seja afirmativa, use a função anterior para incluir o novo nome.\n",
        "- excluirTelefone – essa função exclui um telefone de uma pessoa que já está na agenda. Se a pessoa tiver apenas um telefone, ela deve ser excluída da agenda.\n",
        "- excluirNome – essa função exclui uma pessoa da agenda.\n",
        "- consultarTelefone – essa função retorna os telefones de uma pessoa na agenda.\n"
      ]
    },
    {
      "cell_type": "code",
      "metadata": {
        "id": "O5H4zggB4Rv1",
        "colab_type": "code",
        "colab": {}
      },
      "source": [
        "#solução"
      ],
      "execution_count": 0,
      "outputs": []
    },
    {
      "cell_type": "markdown",
      "metadata": {
        "id": "XzgK2L8c4Rv5",
        "colab_type": "text"
      },
      "source": [
        "#### 7 Faça um dicionário que armazene os nomes dos estados da região sudeste, sua população, sua capital e seu PIB (procure na Wikipedia). Use a sigla do estado como chave. Depois imprima (com print) uma lista com a sigla e os demais dados ordenados por ordem alfabética de sigla."
      ]
    },
    {
      "cell_type": "code",
      "metadata": {
        "id": "YLpB5aVD4Rv6",
        "colab_type": "code",
        "colab": {}
      },
      "source": [
        "#solução"
      ],
      "execution_count": 0,
      "outputs": []
    },
    {
      "cell_type": "markdown",
      "metadata": {
        "id": "d5bx221a4Rv9",
        "colab_type": "text"
      },
      "source": [
        "#### 8 Retorne um conjunto de elementos que estão em A ou B, mas não em ambos:\n",
        "- `A = {10, 20, 30, 40, 50}`\n",
        "- `B = {30, 40, 50, 60, 70}`"
      ]
    },
    {
      "cell_type": "code",
      "metadata": {
        "id": "n-dC48jf4Rv-",
        "colab_type": "code",
        "colab": {}
      },
      "source": [
        "#solução"
      ],
      "execution_count": 0,
      "outputs": []
    },
    {
      "cell_type": "markdown",
      "metadata": {
        "id": "cV0PvZQf4RwB",
        "colab_type": "text"
      },
      "source": [
        "#### 9 Considere a lista `[1, 2, 3, 4, 5, 6, 7, 8, 9, 10]`. Crie outra lista com a raiz quadrada de cada elemento da lista dada. Sugestão: use list comprehension."
      ]
    },
    {
      "cell_type": "code",
      "metadata": {
        "id": "l99wp1tn4RwC",
        "colab_type": "code",
        "colab": {}
      },
      "source": [
        "#solução"
      ],
      "execution_count": 0,
      "outputs": []
    },
    {
      "cell_type": "markdown",
      "metadata": {
        "id": "W9Gbo-sh4RwI",
        "colab_type": "text"
      },
      "source": [
        "#### 10 Considere a string `\"Mike; ;Emma;Kelly; ;Brad;Zed\"`. Imprima, com print, outra string com os mesmos nomes, em ordem alfabética decrescente, sem os nomes em branco e com os nomes separados por tab (`\\t`)."
      ]
    },
    {
      "cell_type": "code",
      "metadata": {
        "id": "2k9Jjc3F4RwJ",
        "colab_type": "code",
        "colab": {}
      },
      "source": [
        "#solução"
      ],
      "execution_count": 0,
      "outputs": []
    },
    {
      "cell_type": "markdown",
      "metadata": {
        "id": "SIBBCKQs4RwN",
        "colab_type": "text"
      },
      "source": [
        "#### 11 Troque o valor `20` pelo valor `25` da tupla `(\"Laranja\", [10, 20, 30], {1:5, 3:15,'728':25})`. Depois troque o valor `[10, 25, 30]` pelo valor `'Laranja'`. Deixe o código que causa erro comentado."
      ]
    },
    {
      "cell_type": "code",
      "metadata": {
        "id": "gY-9pD7q4RwO",
        "colab_type": "code",
        "colab": {}
      },
      "source": [
        "#solução"
      ],
      "execution_count": 0,
      "outputs": []
    },
    {
      "cell_type": "markdown",
      "metadata": {
        "id": "00JiSExw4RwR",
        "colab_type": "text"
      },
      "source": [
        "#### 12 Leet é uma forma de se escrever o alfabeto latino usando outros símbolos em lugar das letras, como números por exemplo. A própria palavra leet admite muitas variações, como l33t ou 1337. O uso do leet reflete uma subcultura relacionada ao mundo dos jogos de computador e internet, sendo muito usada para confundir os iniciantes e afirmar-se como parte de um grupo. Pesquise sobre as principais formas de traduzir as letras. Depois, faça um programa que peça uma texto e transforme-o para a grafia leet speak.\n",
        "Desafio: não use loops nem desvios condicionais.\n"
      ]
    },
    {
      "cell_type": "code",
      "metadata": {
        "id": "itgQwMyw4RwT",
        "colab_type": "code",
        "colab": {}
      },
      "source": [
        "#solução"
      ],
      "execution_count": 0,
      "outputs": []
    },
    {
      "cell_type": "markdown",
      "metadata": {
        "id": "1Aza0zop4RwW",
        "colab_type": "text"
      },
      "source": [
        "#### 13 Considere o dicionário abaixo. Crie outro dicionário a partir deste tomando o valor como chave e a chave como valor:\n",
        "`{'a':1, 'b':2, 'c':3, 'd':4, 'e':5, 'f':6, 'g':7, 'h':8, 'i':9, 'j':10}`"
      ]
    },
    {
      "cell_type": "code",
      "metadata": {
        "id": "FGy9u1Mv4RwX",
        "colab_type": "code",
        "colab": {}
      },
      "source": [
        "#solução"
      ],
      "execution_count": 0,
      "outputs": []
    },
    {
      "cell_type": "markdown",
      "metadata": {
        "id": "U3_lk4mH4RwZ",
        "colab_type": "text"
      },
      "source": [
        "##### 14 Uma pista de Kart permite 10 voltas para cada um de 6 corredores. Escreva um programa que leia todos os tempos em segundos e os guarde em um dicionário, onde a chave é o nome do corredor. Ao final diga de quem foi a melhor volta da prova e em que volta; e ainda a classificação final em ordem (1o o campeão). O campeão é o que tem a menor média de tempos."
      ]
    },
    {
      "cell_type": "code",
      "metadata": {
        "id": "GKEcF8-F4Rwb",
        "colab_type": "code",
        "colab": {}
      },
      "source": [
        "#solução"
      ],
      "execution_count": 0,
      "outputs": []
    },
    {
      "cell_type": "markdown",
      "metadata": {
        "id": "TOGb9rjS4Rwf",
        "colab_type": "text"
      },
      "source": [
        "##### 15 *Blocos de ações.* Um bloco de ações é representado como um certo número de atributos, incluindo uma data de compra, um preço de compra, um número de ações e um símbolo de cotação. Podemos registrar essas informações em uma tupla para cada bloco de estoque e realizar várias operações simples nos blocos.\n",
        "\n",
        "Vamos sonhar que temos o seguinte portfólio.\n",
        "\n",
        "<table>\n",
        "    <tr><th>Data da Compra</th><th>Preço de Compra</th><th>Ações</th><th>Símbolo</th><th>Preço Atual</th></tr>\n",
        "<tr><td>26 Jan 2015</td><td> 43.50</td><td> 25</td><td> CAT</td><td> 92.45</td><tr>\n",
        "<tr><td>26 Jan 2015</td><td> 42.80</td><td> 50</td><td> DD</td><td> 51.19</td><tr>\n",
        "<tr><td>26 Jan 2015</td><td> 42.10</td><td> 75</td><td> EK</td><td> 34.87</td><tr>\n",
        "<tr><td>26 Jan 2015</td><td> 37.58</td><td> 100</td><td> GM</td><td> 37.58</td><tr>\n",
        "</table>\n",
        "Podemos representar cada bloco de ações como uma tupla de cinco com data de compra, preço de compra, ações, símbolo e preço atual.\n",
        "\n",
        "`portfolio = [\n",
        "(\"26-Jan-2015\", 43.50, 25, 'CAT', 92.45),\n",
        "(\"26-Jan-2015\", 42.80, 50, 'DD', 51.19),\n",
        "(\"26-Jan-2015\", 42.10, 75, 'EK', 34.87),\n",
        "(\"26-Jan-2015\", 37.58, 100, 'GM', 37.58)\n",
        "]`\n",
        "\n",
        "Desenvolva um programa que examine cada bloco, multiplique ações pelo preço de compra e determine o preço total de compra do portfólio. E, depois, examine cada bloco, multiplique ações pelo preço de compra e ações pelo preço atual para determinar o valor total ganho ou perdido."
      ]
    },
    {
      "cell_type": "code",
      "metadata": {
        "id": "PoE1Zia64Rwg",
        "colab_type": "code",
        "colab": {}
      },
      "source": [
        "#solução"
      ],
      "execution_count": 0,
      "outputs": []
    }
  ]
}