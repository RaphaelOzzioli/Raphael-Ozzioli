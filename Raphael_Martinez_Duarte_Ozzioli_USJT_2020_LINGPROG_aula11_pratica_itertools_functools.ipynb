{
  "nbformat": 4,
  "nbformat_minor": 0,
  "metadata": {
    "kernelspec": {
      "display_name": "Python 3",
      "language": "python",
      "name": "python3"
    },
    "language_info": {
      "codemirror_mode": {
        "name": "ipython",
        "version": 3
      },
      "file_extension": ".py",
      "mimetype": "text/x-python",
      "name": "python",
      "nbconvert_exporter": "python",
      "pygments_lexer": "ipython3",
      "version": "3.6.4"
    },
    "colab": {
      "name": "Raphael Martinez Duarte Ozzioli - USJT-2020-LINGPROG-aula11-pratica-itertools-functools.ipynb",
      "provenance": [],
      "include_colab_link": true
    }
  },
  "cells": [
    {
      "cell_type": "markdown",
      "metadata": {
        "id": "view-in-github",
        "colab_type": "text"
      },
      "source": [
        "<a href=\"https://colab.research.google.com/github/phclosou/Raphael-Ozzioli/blob/master/Raphael_Martinez_Duarte_Ozzioli_USJT_2020_LINGPROG_aula11_pratica_itertools_functools.ipynb\" target=\"_parent\"><img src=\"https://colab.research.google.com/assets/colab-badge.svg\" alt=\"Open In Colab\"/></a>"
      ]
    },
    {
      "cell_type": "markdown",
      "metadata": {
        "id": "YxetxUitaS8S",
        "colab_type": "text"
      },
      "source": [
        "![logo_usjt.png](https://www.usjt.br/app/themes/mobister/dist/images/sao-judas-universidade.png)"
      ]
    },
    {
      "cell_type": "markdown",
      "metadata": {
        "id": "HS6edIoYaS8U",
        "colab_type": "text"
      },
      "source": [
        "# Paradigmas de Linguagens de Programação\n",
        "- **Professor**: Sergio Bonato <antonio.bonato@saojudas.br>"
      ]
    },
    {
      "cell_type": "markdown",
      "metadata": {
        "id": "CouqlPTXaS8V",
        "colab_type": "text"
      },
      "source": [
        "# Atividade11 - Python - Itertools - Functools\n",
        "**Conteúdo:**\n",
        "- Itertools\n",
        "- Functools\n",
        "- Calculadora com iteradores"
      ]
    },
    {
      "cell_type": "markdown",
      "metadata": {
        "id": "VwIAPYXEaS8V",
        "colab_type": "text"
      },
      "source": [
        "## Autor\n",
        "- **Aluno:**\n",
        "\n",
        "Obs: as tarefas devem ser individuais."
      ]
    },
    {
      "cell_type": "markdown",
      "metadata": {
        "id": "1AzeE4eiaS8W",
        "colab_type": "text"
      },
      "source": [
        "**1** Considere uma lista de cartas 'A', '2' .. '10', 'J', 'Q', 'K' e outra lista de naipes: 'P', 'E', 'O', 'C' (paus, espadas, ouros e copas). Use `itertools.product` para criar uma lista com todas as combinações de cartas e naipes.\n",
        "```\n",
        "Ex: ['PA', 'P2', 'P3', ..., 'PQ', 'PK', 'EA', ..., 'CK']\n",
        "\n",
        "Ex: concatenate(['A','B'],['a','b'],'-') = ['A-a', 'B-b']\n",
        "```"
      ]
    },
    {
      "cell_type": "code",
      "metadata": {
        "id": "HdknJb5qaS8X",
        "colab_type": "code",
        "colab": {}
      },
      "source": [
        "#solução\n",
        "from functools import reduce\n",
        "from itertools import product\n",
        "from itertools import dropwhile\n",
        "from itertools import count\n",
        "from itertools import combinations\n",
        "from itertools import permutations\n",
        "from itertools import groupby\n",
        "from itertools import cycle\n",
        "from time import time\n",
        "from time import sleep\n",
        "from sys import stdout\n",
        "\n",
        "def concatenate(first_list, second_list, separator):\n",
        "    return list(map(lambda comb: str(comb[0]) + separator + str(comb[1]), list(product(first_list, second_list))))\n",
        "\n",
        "cards = ['A', '2', '3', '4', '5', '6', '7', '8', '9', '10', 'J', 'Q', 'K']\n",
        "suites = ['P', 'E', 'O', 'C']\n",
        "\n",
        "print(concatenate(suites, cards, \"\"))\n",
        "\n"
      ],
      "execution_count": 0,
      "outputs": []
    },
    {
      "cell_type": "markdown",
      "metadata": {
        "id": "K2JY6ZDQaS8c",
        "colab_type": "text"
      },
      "source": [
        "**2** Use `itertools.cycle` para criar um spinner (a antiga ampulheta do windows) no formato caractere. Use os caracteres `\\|/¬–` para simular a rotação. A função spinner recebe como parâmetro o tempo de duração do spinner. Use `time.time()` para o tempo, `sys.stdout.write()` para escrever o caractere do spinner, `sys.stdout.flush()` para disparar a thread e `time.sleep()`  para reduzir a velocidade de rotação."
      ]
    },
    {
      "cell_type": "code",
      "metadata": {
        "id": "eiuc3oTRaS8c",
        "colab_type": "code",
        "colab": {}
      },
      "source": [
        "#solução\n",
        "def spinner(duration, time_betwen_ticks):\n",
        "\n",
        "    target_time = time() + duration\n",
        "\n",
        "    for tick in cycle(['\\\\', '|', '/', '–']):\n",
        "\n",
        "        sleep(time_betwen_ticks)\n",
        "\n",
        "        stdout.write(tick)\n",
        "        stdout.flush()\n",
        "\n",
        "        if time() >= target_time:\n",
        "            break\n",
        "\n",
        "spinner(2, 0.1)\n"
      ],
      "execution_count": 0,
      "outputs": []
    },
    {
      "cell_type": "markdown",
      "metadata": {
        "id": "q3HReMdlaS8g",
        "colab_type": "text"
      },
      "source": [
        "**3** Dado um dicionário cujas chaves sejam nomes de livros e seus respectivos valores sejam suas quantidades em estoque, use `itertools.dropwhile` para retornar livros com quantidade maior ou igual a 2."
      ]
    },
    {
      "cell_type": "code",
      "metadata": {
        "id": "pQaXz_ICaS8h",
        "colab_type": "code",
        "colab": {}
      },
      "source": [
        "#solução\n",
        "books = {\n",
        "    \"Moby Dick\": 100,\n",
        "    \"1983\": 1,\n",
        "    \"Harry Potter\": 2,\n",
        "    \"A arte da guerra\": -1\n",
        "}\n",
        "\n",
        "def getBooksWithEqualOrMoreThan(books, ammount):\n",
        "    return list(dropwhile(lambda book: books[book] >= ammount, books.keys()))\n",
        "\n",
        "print(getBooksWithEqualOrMoreThan(books, 2))\n"
      ],
      "execution_count": 0,
      "outputs": []
    },
    {
      "cell_type": "markdown",
      "metadata": {
        "id": "VcyxLkYMaS8l",
        "colab_type": "text"
      },
      "source": [
        "**4** Dada uma lista de alunos, quantos pares podem ser formados? Use `itertools.combinations`."
      ]
    },
    {
      "cell_type": "code",
      "metadata": {
        "id": "mwuM-EOUaS8l",
        "colab_type": "code",
        "colab": {}
      },
      "source": [
        "#solução\n",
        "\n",
        "students = [\"Jorge\", \"Pablo\", \"Aquela tia\", \"Teófila\"]\n",
        "\n",
        "def studentCount(students):\n",
        "    return len(list(combinations(students, r=2)))\n",
        "\n",
        "print(studentCount(students))"
      ],
      "execution_count": 0,
      "outputs": []
    },
    {
      "cell_type": "markdown",
      "metadata": {
        "id": "ITA2e-YwaS8p",
        "colab_type": "text"
      },
      "source": [
        "**5** Quantas palavras de 4 letras podem ser formadas a partir de uma lista de 7 letras. Use `itertools.permutations`."
      ]
    },
    {
      "cell_type": "code",
      "metadata": {
        "id": "5XXIi-BEaS8p",
        "colab_type": "code",
        "colab": {}
      },
      "source": [
        "#solução\n",
        "def wordPermutations(char_list):\n",
        "    return len(list(permutations(char_list, 4)))\n",
        "\n",
        "print(wordPermutations(['1', '2', '3', '4', '5', '6', '7']))\n"
      ],
      "execution_count": 0,
      "outputs": []
    },
    {
      "cell_type": "markdown",
      "metadata": {
        "id": "xeSdcAbRaS8s",
        "colab_type": "text"
      },
      "source": [
        "**6** Considere um dicionário cuja chave são nomes de usuários e os respectivos valores são o meio de contato preferido (opções: e-mail, carta, whatsapp, telefone fixo, fax e celular).\n",
        "\n",
        "Crie uma função que retorna a quantidade de usuários que preferem e-mail. Use `itertools.groupby()`."
      ]
    },
    {
      "cell_type": "code",
      "metadata": {
        "id": "xp2lz673aS8t",
        "colab_type": "code",
        "colab": {}
      },
      "source": [
        "#solução\n",
        "\n",
        "users = {\n",
        "    \"Pablo\" : \"e-mail\",\n",
        "    \"Josepha\": \"carta\",\n",
        "    \"Rhoserbaldo\": \"whatsapp\",\n",
        "    \"Herisvaldo\": \"telefone fixo\",\n",
        "    \"Draxion\": \"fax\",\n",
        "    \"Bênis\": \"celular\" ,\n",
        "    \"Néju\" : \"e-mail\",\n",
        "    \"Zherihio\": \"carta\",\n",
        "    \"Vitoriano\": \"whatsapp\",\n",
        "    \"Cara\" : \"e-mail\"\n",
        "}\n",
        "\n",
        "def countEmailUsers(users):\n",
        "    users = {k: v for k, v in sorted(users.items(), key=lambda item: item[1])}\n",
        "\n",
        "    for key, group in groupby(users.keys(), lambda user_name: users[user_name]):\n",
        "        if key == \"e-mail\":\n",
        "            return len(list(group))\n",
        "    return 0\n",
        "\n",
        "print(countEmailUsers(users))"
      ],
      "execution_count": 0,
      "outputs": []
    },
    {
      "cell_type": "code",
      "metadata": {
        "id": "tE12aX_DaS8w",
        "colab_type": "code",
        "colab": {}
      },
      "source": [
        ""
      ],
      "execution_count": 0,
      "outputs": []
    },
    {
      "cell_type": "markdown",
      "metadata": {
        "id": "0GFBbV4OaS8y",
        "colab_type": "text"
      },
      "source": [
        "#solução\n",
        "\n"
      ]
    }
  ]
}