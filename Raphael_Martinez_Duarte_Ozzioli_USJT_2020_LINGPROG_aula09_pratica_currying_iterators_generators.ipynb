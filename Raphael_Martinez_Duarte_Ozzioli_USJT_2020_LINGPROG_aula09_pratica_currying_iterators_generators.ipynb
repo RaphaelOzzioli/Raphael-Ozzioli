{
  "nbformat": 4,
  "nbformat_minor": 0,
  "metadata": {
    "kernelspec": {
      "display_name": "Python 3",
      "language": "python",
      "name": "python3"
    },
    "language_info": {
      "codemirror_mode": {
        "name": "ipython",
        "version": 3
      },
      "file_extension": ".py",
      "mimetype": "text/x-python",
      "name": "python",
      "nbconvert_exporter": "python",
      "pygments_lexer": "ipython3",
      "version": "3.6.4"
    },
    "colab": {
      "name": "Raphael Martinez Duarte Ozzioli - USJT-2020-LINGPROG-aula09-pratica-currying-iterators-generators.ipynb",
      "provenance": [],
      "include_colab_link": true
    }
  },
  "cells": [
    {
      "cell_type": "markdown",
      "metadata": {
        "id": "view-in-github",
        "colab_type": "text"
      },
      "source": [
        "<a href=\"https://colab.research.google.com/github/phclosou/Raphael-Ozzioli/blob/master/Raphael_Martinez_Duarte_Ozzioli_USJT_2020_LINGPROG_aula09_pratica_currying_iterators_generators.ipynb\" target=\"_parent\"><img src=\"https://colab.research.google.com/assets/colab-badge.svg\" alt=\"Open In Colab\"/></a>"
      ]
    },
    {
      "cell_type": "markdown",
      "metadata": {
        "id": "IDFGQk7xH8I2",
        "colab_type": "text"
      },
      "source": [
        "![logo_usjt.png](https://www.usjt.br/app/themes/mobister/dist/images/sao-judas-universidade.png)"
      ]
    },
    {
      "cell_type": "markdown",
      "metadata": {
        "id": "FV8kwvnPH8I5",
        "colab_type": "text"
      },
      "source": [
        "# Paradigmas de Linguagens de Programação\n",
        "- **Professor**: Sergio Bonato <antonio.bonato@saojudas.br>"
      ]
    },
    {
      "cell_type": "markdown",
      "metadata": {
        "id": "KPKW6VBSH8I7",
        "colab_type": "text"
      },
      "source": [
        "# Atividade09 - Python - Currying - Iterators - Generators\n",
        "**Conteúdo:**\n",
        "- currying\n",
        "- memoization\n",
        "- refazendo o exemplo calculadora funcional\n",
        "- iterators\n",
        "- generators\n",
        "- lazy/eager evaluation\n",
        "- coroutines"
      ]
    },
    {
      "cell_type": "markdown",
      "metadata": {
        "id": "tO_MfakWH8I8",
        "colab_type": "text"
      },
      "source": [
        "## Autor\n",
        "- **Aluno:**\n",
        "\n",
        "Obs: as tarefas devem ser individuais."
      ]
    },
    {
      "cell_type": "markdown",
      "metadata": {
        "id": "r2-H_zdIH8I-",
        "colab_type": "text"
      },
      "source": [
        "**Exercício 1: Gerador de Primos** \n",
        "\n",
        "Implemente um gerador infinito de números primos.\n",
        "\n",
        "Ex: \n",
        "```\n",
        "i = 0\n",
        "while i < 10:\n",
        "\t print(gera_primos())\n",
        "\ti += 1\n",
        "```\n",
        "Este código imprime os 10 primeiros números primos, isto é: 1, 2, 3, 5, 7, 11, 13, 17, 19, 23."
      ]
    },
    {
      "cell_type": "code",
      "metadata": {
        "id": "nSH_shHRH8JA",
        "colab_type": "code",
        "colab": {}
      },
      "source": [
        "ef gera_primos_aux():\n",
        "    num = 1\n",
        "    while True:\n",
        "        if num == 1 or num == 2 or not(any(list(map(lambda i: num % i == 0, range(2, num))))):\n",
        "            yield num\n",
        "        num += 1\n",
        "\n",
        "g = gera_primos_aux()\n",
        "gera_primos = lambda: g.send(None)\n",
        "\n",
        "i = 0\n",
        "while i < 10:\n",
        "    print(gera_primos())\n",
        "    i += 1\n",
        "\n"
      ],
      "execution_count": 0,
      "outputs": []
    },
    {
      "cell_type": "markdown",
      "metadata": {
        "id": "bmiRaM-4H8JK",
        "colab_type": "text"
      },
      "source": [
        "**Exercício 2: Gerador de tuplas:**\n",
        "\n",
        "Implementar um gerador que leia um arquivo e retorne uma lista de tuplas com os dados (o separador de campo do arquivo é virgula), eliminando as linhas vazias. Caso ocorra algum problema, imprima uma mensagem de aviso e encerre o programa. Use o exemplo abaixo como arquivo de entrada:\n",
        "\n",
        "Ex:\n",
        "\n",
        "```\n",
        "Entrada: \n",
        "\n",
        "teste.txt\n",
        "\n",
        "1,vermelho,2,verde,3,amarelo,4,roxo\n",
        "5,verde,6,preto,7,laranja,8,amarelo\n",
        "9,preto,10,roxo,11,roxo,12,branco\n",
        "\n",
        "Chamada: \n",
        "\n",
        "gera_tupla(teste.txt)\n",
        "\n",
        "Retorno:\n",
        "\n",
        "[(1,'vermelho'),(2,'verde'),(3,'amarelo'),(4,'roxo'),(5,'verde'),(6,'preto'),(7,'laranja'),(8,'amarelo'),(9,'preto'),(10,'roxo'),(11,'roxo'),(12,'branco')]\n",
        "```"
      ]
    },
    {
      "cell_type": "code",
      "metadata": {
        "id": "HjJVl8e7H8JM",
        "colab_type": "code",
        "colab": {}
      },
      "source": [
        "def gera_tupla_aux():\n",
        "    nome_arquivo = yield\n",
        "    arquivo = open(nome_arquivo).read().replace('\\n',',').split(',')\n",
        "    yield list(zip(arquivo[::2], arquivo[1::2]))\n",
        "    \n",
        "g = gera_tupla_aux()\n",
        "g.send(None)\n",
        "gera_tupla = lambda x: g.send(x)\n",
        "\n",
        "gera_tupla('teste.txt')\n",
        "\n"
      ],
      "execution_count": 0,
      "outputs": []
    },
    {
      "cell_type": "markdown",
      "metadata": {
        "id": "IG42LjgtH8JT",
        "colab_type": "text"
      },
      "source": [
        "**Exercício 3: Dois geradores de tuplas** \n",
        "\n",
        "Implementar dois geradores e rodá-los em paralelo (coroutine) para processar dois arquivos e gerar tuplas. O primeiro é similar ao do exercício 2. O segundo processa outro arquivo, também separado por vírgulas. No final, a lista gerada deve conter tuplas com 3 elementos. \n",
        "\n",
        "Use o exemplo baixo como base:\n",
        "\n",
        "```\n",
        "Entrada: \n",
        "\n",
        "teste1.txt\n",
        "\n",
        "1,vermelho,2,verde,3,amarelo,4,roxo\n",
        "5,verde,6,preto,7,laranja,8,amarelo\n",
        "9,preto,10,roxo,11,roxo,12,branco\n",
        "\n",
        "teste2.txt\n",
        "\n",
        "0,1,0,0\n",
        "1,1,1,0\n",
        "1,0,0,1\n",
        "\n",
        "\n",
        "Chamada: \n",
        "\n",
        "gera_tupla1(teste1.txt), gera_tupla2(teste2.txt)\n",
        "\n",
        "Retorno:\n",
        "\n",
        "[(1,'vermelho',False),(2,'verde',True),(3,'amarelo',False),(4,'roxo',False),(5,'verde',True),(6,'preto',True),(7,'laranja',True),(8,'amarelo',False),(9,'preto',True),(10,'roxo',False),(11,'roxo',False),(12,'branco',True)]\n",
        "```"
      ]
    },
    {
      "cell_type": "code",
      "metadata": {
        "id": "9yaUoqtIH8JT",
        "colab_type": "code",
        "colab": {}
      },
      "source": [
        "def gera_tupla_aux1():\n",
        "    nome_arquivo = yield\n",
        "    arquivo = open(nome_arquivo).read().replace('\\n', ',').split(',')\n",
        "    yield list(zip(arquivo[::2], arquivo[1::2]))\n",
        "    \n",
        "def gera_tupla_aux2():\n",
        "    nome_arquivo = yield\n",
        "    yield open(nome_arquivo).read().replace('\\n', ',').split(',')\n",
        "    \n",
        "g1 = gera_tupla_aux1()\n",
        "g1.send(None)\n",
        "g2 = gera_tupla_aux2()\n",
        "g2.send(None)\n",
        "\n",
        "gera_tupla1 = lambda x: g1.send(x)\n",
        "gera_tupla2 = lambda x: g2.send(x)\n",
        "\n",
        "result = []\n",
        "for x in zip(gera_tupla1('teste1.txt'), gera_tupla2('teste2.txt')):\n",
        "    result.append((x[0][0], x[0][1], x[1] == str(1)))\n",
        "    \n",
        "result\n",
        "\n"
      ],
      "execution_count": 0,
      "outputs": []
    },
    {
      "cell_type": "markdown",
      "metadata": {
        "id": "4yP3vJBdH8JX",
        "colab_type": "text"
      },
      "source": [
        "**Exercício 4: Gerador de inteiros**\n",
        "\n",
        "Escreva um generator que crie um fluxo infinito de inteiros a partir de um valor inicial dado com passo 5. \n",
        "\n",
        "```\n",
        "Ex: gera_inteiros(7) = 12, 17, 22, 27, ...\n",
        "```"
      ]
    },
    {
      "cell_type": "code",
      "metadata": {
        "id": "_gP6_a-LH8JX",
        "colab_type": "code",
        "colab": {}
      },
      "source": [
        "def gera_inteiros(num):\n",
        "    numero = num + 5\n",
        "    yield numero\n",
        "    while True:\n",
        "        numero += 5\n",
        "        yield numero\n",
        "        \n",
        "g = gera_inteiros(7)\n",
        "i = 0\n",
        "while i < 4:\n",
        "    print(g.send(None))\n",
        "    i += 1\n",
        "\n",
        "\n"
      ],
      "execution_count": 0,
      "outputs": []
    },
    {
      "cell_type": "markdown",
      "metadata": {
        "id": "P8dlssxuH8Jb",
        "colab_type": "text"
      },
      "source": [
        "**Exercício 5: Gerador de inteiros com comunicação**\n",
        "\n",
        "Estenda o generator do exercício 4 em uma coroutine que permita que a mudança do passo seja feita de fora (use send()).\n",
        "\n",
        "```\n",
        "Ex: gera_inteiros_flex(7) = 12, 17, 22, 24, 26, 28, 30...\n",
        "```\n",
        "\n",
        "Entre 22 e 24 o passo foi alterado de 5 para 2."
      ]
    },
    {
      "cell_type": "code",
      "metadata": {
        "id": "oDFoQ6JRH8Jb",
        "colab_type": "code",
        "colab": {}
      },
      "source": [
        "    numero = num + 5\n",
        "    yield numero\n",
        "    while True:\n",
        "        passo = yield\n",
        "        numero += passo\n",
        "        yield numero\n",
        "        \n",
        "g = gera_inteiros_flex(7)\n",
        "\n",
        "print(g.send(None))\n",
        "\n",
        "i = 0\n",
        "while i < 2:\n",
        "    next(g)\n",
        "    print(g.send(5))\n",
        "    i += 1\n",
        "\n",
        "i = 0\n",
        "while i < 4:\n",
        "    next(g)\n",
        "    print(g.send(2))\n",
        "    i += 1\n",
        "\n"
      ],
      "execution_count": 0,
      "outputs": []
    }
  ]
}