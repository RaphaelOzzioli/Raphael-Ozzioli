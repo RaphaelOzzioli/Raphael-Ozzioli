{
  "nbformat": 4,
  "nbformat_minor": 0,
  "metadata": {
    "colab": {
      "name": "USJT-2020-LINGPROG-aula03-pratica- ifs e loops.ipynb",
      "provenance": [],
      "include_colab_link": true
    },
    "kernelspec": {
      "display_name": "Python 3",
      "language": "python",
      "name": "python3"
    },
    "language_info": {
      "codemirror_mode": {
        "name": "ipython",
        "version": 3
      },
      "file_extension": ".py",
      "mimetype": "text/x-python",
      "name": "python",
      "nbconvert_exporter": "python",
      "pygments_lexer": "ipython3",
      "version": "3.6.4"
    }
  },
  "cells": [
    {
      "cell_type": "markdown",
      "metadata": {
        "id": "view-in-github",
        "colab_type": "text"
      },
      "source": [
        "<a href=\"https://colab.research.google.com/github/phclosou/Raphael-Ozzioli/blob/master/USJT_2020_LINGPROG_aula03_pratica_ifs_e_loops.ipynb\" target=\"_parent\"><img src=\"https://colab.research.google.com/assets/colab-badge.svg\" alt=\"Open In Colab\"/></a>"
      ]
    },
    {
      "cell_type": "markdown",
      "metadata": {
        "id": "Y0_LBVXVx_6D",
        "colab_type": "text"
      },
      "source": [
        "![logo_usjt.png](https://www.usjt.br/app/themes/mobister/dist/images/sao-judas-universidade.png)"
      ]
    },
    {
      "cell_type": "markdown",
      "metadata": {
        "id": "NW96InKzx_6F",
        "colab_type": "text"
      },
      "source": [
        "# Paradigmas de Linguagens de Programação\n",
        "- **Professor**: Sergio Bonato <antonio.bonato@saojudas.br>"
      ]
    },
    {
      "cell_type": "markdown",
      "metadata": {
        "id": "d3JpMClcx_6H",
        "colab_type": "text"
      },
      "source": [
        "# Atividade03 - Python Básico - Ifs, Loops e Arquivos\n",
        "\n",
        "**Conteúdo:**\n",
        "- comparações, condicionais\n",
        "- laços for e while\n",
        "- arquivos"
      ]
    },
    {
      "cell_type": "markdown",
      "metadata": {
        "id": "ODkb-OvTx_6I",
        "colab_type": "text"
      },
      "source": [
        "## Autor\n",
        "- **Aluno:**\n",
        "\n",
        "Obs: as tarefas devem ser individuais."
      ]
    },
    {
      "cell_type": "markdown",
      "metadata": {
        "id": "TqPEIkKQx_6J",
        "colab_type": "text"
      },
      "source": [
        "## Exercícios"
      ]
    },
    {
      "cell_type": "markdown",
      "metadata": {
        "id": "mXImGDi3x_6K",
        "colab_type": "text"
      },
      "source": [
        "**1** Faça um programa para a leitura de duas notas parciais de um aluno. O programa deve calcular a média alcançada por aluno e apresentar:\n",
        "- A mensagem \"Aprovado\", se a média alcançada for maior ou igual a sete;\n",
        "- A mensagem \"Reprovado\", se a média for menor do que sete;\n",
        "- A mensagem \"Aprovado com Distinção\", se a média for igual a dez."
      ]
    },
    {
      "cell_type": "code",
      "metadata": {
        "id": "B5j3wpd-x_6L",
        "colab_type": "code",
        "colab": {}
      },
      "source": [
        "n = input('Insira o nome do aluno')\n",
        "n1 = float(input('Insira a primeira nota: '))\n",
        "n2 = float(input('Insira a segunda nota: '))\n",
        "media = (n1 + n2) / 2\n",
        "if media >= 7:\n",
        "    print(f'A primeira nota foi {n1} e a segunda foi {n2}')\n",
        "    print(f'O aluno {n} foi Aprovado, parabéns!')\n",
        "elif media == 10:\n",
        "    print(f'A primeira nota foi {n1} e a segunda foi {n2}')\n",
        "    print(f'O aluno {n} foi Aprovado com Distinção, parabéns e continue assim!')\n",
        "else:\n",
        "    print(f'A primeira nota foi {n1} e a segunda foi {n2}')\n",
        "    print(f'O aluno {n} foi Reprovado, estude mais!')"
      ],
      "execution_count": 0,
      "outputs": []
    },
    {
      "cell_type": "markdown",
      "metadata": {
        "id": "TB6BrCEtx_6S",
        "colab_type": "text"
      },
      "source": [
        "**2** Faça um programa que leia três números e mostre-os em ordem decrescente."
      ]
    },
    {
      "cell_type": "code",
      "metadata": {
        "id": "CGF9-rg7x_6T",
        "colab_type": "code",
        "colab": {}
      },
      "source": [
        "lista1 = []\n",
        "for c in range (0, 3):\n",
        "    lista1.append(int(input(f'Digite um valor para a Posição {c}:')))\n",
        "    print(f'Você digitou os valores {lista1}')\n",
        "lista1.sort()\n",
        "print('A ordem dos numeros da lista em ordem decrescente é:')\n",
        "for n in reversed(lista1):\n",
        "    print(n)"
      ],
      "execution_count": 0,
      "outputs": []
    },
    {
      "cell_type": "markdown",
      "metadata": {
        "id": "pK89CBRix_6X",
        "colab_type": "text"
      },
      "source": [
        "**3** As Organizações Tabajara resolveram dar um aumento de salário aos seus colaboradores e lhe contrataram para desenvolver o programa que calculará os reajustes.\n",
        "\n",
        "Faça um programa que recebe o salário de um colaborador e o reajuste segundo o seguinte critério, baseado no salário atual:\n",
        "- salários até R\\$ 280,00 (incluindo) : aumento de 20%\n",
        "- salários entre R\\$ 280,00 e R\\$ 700,00 : aumento de 15%\n",
        "- salários entre R\\$ 700,00 e R\\$ 1500,00 : aumento de 10%\n",
        "- salários de R\\$ 1500,00 em diante : aumento de 5% \n",
        "\n",
        "Após o aumento ser realizado, informe na tela:\n",
        "- o salário antes do reajuste;\n",
        "- o percentual de aumento aplicado;\n",
        "- o valor do aumento;\n",
        "- o novo salário, após o aumento."
      ]
    },
    {
      "cell_type": "code",
      "metadata": {
        "id": "g3dbSjm5x_6Y",
        "colab_type": "code",
        "colab": {}
      },
      "source": [
        "salario = float(input('Insira o salário: '))\n",
        "if salario <= 280:\n",
        "    percentual = 0.20\n",
        "elif salario > 280 and salario <= 700:\n",
        "    percentual = 0.15\n",
        "elif salario > 700 and salario <= 1500:\n",
        "    percentual = 0.10\n",
        "else:\n",
        "    percentual = 0.05\n",
        "novoSalario = salario + (salario * percentual)\n",
        "\n",
        "print('Salário antes do reajuste: R$', salario)\n",
        "print(f'Percentual de aumento aplicado: {percentual * 100}%')\n",
        "print('Valor do aumento: R$', salario * percentual)\n",
        "print('Novo salário: R$', novoSalario)"
      ],
      "execution_count": 0,
      "outputs": []
    },
    {
      "cell_type": "markdown",
      "metadata": {
        "id": "ISuUnsMVx_6b",
        "colab_type": "text"
      },
      "source": [
        "**4** Faça um Programa que leia um número e exiba o dia correspondente da semana. (1-Domingo, 2- Segunda, etc.), se digitar outro valor deve aparecer valor inválido."
      ]
    },
    {
      "cell_type": "code",
      "metadata": {
        "id": "BNXWgz7qx_6c",
        "colab_type": "code",
        "colab": {}
      },
      "source": [
        "lst_semana = {1:'Domingo', 2:'Segunda-feira', 3:'Terça-feira', 4:'Quarta-feira', 5:'Quinta-feira', \n",
        "              6:'Sexta-feira', 7:'Sábado'}\n",
        "dia = int(input(\"Insira o dia da semana: \"))\n",
        "if dia > 0 and dia < 8:\n",
        "    print(\"O dia da semana digitado equivale à: {}\".format(lst_semana[dia]))\n",
        "else:\n",
        "    print(\"Valor inválido\")"
      ],
      "execution_count": 0,
      "outputs": []
    },
    {
      "cell_type": "markdown",
      "metadata": {
        "id": "FJ09iw2Xx_6f",
        "colab_type": "text"
      },
      "source": [
        "**5** Faça um Programa que peça os 3 lados de um triângulo. O programa deverá informar se os valores podem ser um triângulo. Indique, caso os lados formem um triângulo, se o mesmo é: equilátero, isósceles ou escaleno.\n",
        "\n",
        "Dicas:\n",
        "- Três lados formam um triângulo quando a soma de quaisquer dois lados for maior que o terceiro;\n",
        "- Triângulo Equilátero: três lados iguais;\n",
        "- Triângulo Isósceles: quaisquer dois lados iguais;\n",
        "- Triângulo Escaleno: três lados diferentes;\n"
      ]
    },
    {
      "cell_type": "code",
      "metadata": {
        "id": "-_rAn4BGx_6f",
        "colab_type": "code",
        "colab": {}
      },
      "source": [
        "l1 = float(input('Insira o primeiro lado: '))\n",
        "l2 = float(input('Insira o segundo lado: '))\n",
        "l3 = float(input('Insira o terceiro lado: '))\n",
        "print(f'Os lados são {l1}, {l2} e {l3}!')\n",
        "\n",
        "if l1 < l2 + l3 and l2 < l1 + l3 and l3 < l1 + l2:\n",
        "    if l1 == l2 == l3:\n",
        "        print('Os valores formam um triângulo equilátero.')\n",
        "    elif l1 == l2 or l1 == l3 or l2 == l3:\n",
        "        print('Os valores formam um triângulo isósceles.')\n",
        "    else:\n",
        "        print('Os valores formam um triângulo escaleno.')\n",
        "else:\n",
        "    print('Os valores não formam um triangulo.')"
      ],
      "execution_count": 0,
      "outputs": []
    },
    {
      "cell_type": "markdown",
      "metadata": {
        "id": "hSW5VNIRx_6i",
        "colab_type": "text"
      },
      "source": [
        "**6** Faça um programa que calcule as raízes de uma equação do segundo grau, na forma `ax2 + bx + c`. O programa deverá pedir os valores de `a`, `b` e `c` e fazer as consistências, informando ao usuário nas seguintes situações:\n",
        "\n",
        "- Se o usuário informar o valor de A igual a zero, a equação não é do segundo grau e o programa não deve fazer pedir os demais valores, sendo encerrado;\n",
        "- Se o delta calculado for negativo, a equação não possui raizes reais. Informe ao usuário e encerre o programa;\n",
        "- Se o delta calculado for igual a zero a equação possui apenas uma raiz real; informe-a ao usuário;\n",
        "- Se o delta for positivo, a equação possui duas raiz reais; informe-as ao usuário."
      ]
    },
    {
      "cell_type": "code",
      "metadata": {
        "id": "UQ5lUKWNx_6i",
        "colab_type": "code",
        "colab": {}
      },
      "source": [
        "a = float(input('Insira o valor de A: '))\n",
        "if a == 0:\n",
        "    print(\"Se o valor de a é 0, não é uma equação do segundo grau, programa encerrado.\")\n",
        "else:\n",
        "    b = float(input('Insira o valor de B: '))\n",
        "    c = float(input('Insira o valor de C: '))\n",
        "    delta = b**2 - 4*a*c\n",
        "    print(f'A equação é {a}X2 + {b}X + {c}')\n",
        "    if delta < 0:\n",
        "        print(f'delta = {b}^2 - 4 * {a} * {c}')\n",
        "        print('delta =',delta)\n",
        "        print(\"A equação não possui raizes reais, programa encerrado\")\n",
        "    elif delta == 0:\n",
        "        x = -b + delta ** (1/2) / (2*a)\n",
        "        print(f'delta = {b}^2 - 4 * {a} * {c}')\n",
        "        print('delta =',delta)\n",
        "        print(f'x = -{b} + {delta} ** (1/2) / (2*{a})')\n",
        "        print('x =',x)\n",
        "        print(\"A equação possui apenas uma raiz real:\", x)\n",
        "    else:\n",
        "        x1 = -b + delta ** (1/2) / (2*a)\n",
        "        x2 = -b - delta ** (1/2) / (2*a)\n",
        "        print(f'delta = {b}^2 - 4 * {a} * {c}')\n",
        "        print('delta =',delta)\n",
        "        print(f'x1 = -{b} + {delta} ** (1/2) / (2*{a})')\n",
        "        print('x1 =',x1)\n",
        "        print(f'x2 = -{b} + {delta} ** (1/2) / (2*{a})')\n",
        "        print('x2 =',x2)\n",
        "        print(f\"A equação possui duas raiz reais: {x1} e {x2}\")"
      ],
      "execution_count": 0,
      "outputs": []
    },
    {
      "cell_type": "markdown",
      "metadata": {
        "id": "yWxMn6uex_6l",
        "colab_type": "text"
      },
      "source": [
        "**7** Faça um programa que faça 5 perguntas para uma pessoa sobre um crime. As perguntas são:\n",
        "- \"Telefonou para a vítima?\"\n",
        "- \"Esteve no local do crime?\"\n",
        "- \"Mora perto da vítima?\"\n",
        "- \"Devia para a vítima?\"\n",
        "- \"Já trabalhou com a vítima?\" \n",
        "\n",
        "O programa deve no final emitir uma classificação sobre a participação da pessoa no crime. Se a pessoa responder positivamente a 2 questões ela deve ser classificada como \"Suspeita\", entre 3 e 4 como \"Cúmplice\" e 5 como \"Assassino\". Caso contrário, ele será classificado como \"Inocente\"."
      ]
    },
    {
      "cell_type": "code",
      "metadata": {
        "id": "B42kCtYEx_6m",
        "colab_type": "code",
        "colab": {}
      },
      "source": [
        "score = 0\n",
        "respostas = [\n",
        "    input(\"Telefonou para a vítima? (s/n): \"),\n",
        "    input(\"Esteve no local do crime? (s/n): \"),\n",
        "    input(\"Mora perto da vítima? (s/n): \"),\n",
        "    input(\"Devia para a vítima? (s/n): \"),\n",
        "    input(\"Já trabalhou com a vítima? (s/n): \")\n",
        "]\n",
        "\n",
        "for resposta in respostas:\n",
        "    if resposta == \"s\":\n",
        "        score += 1\n",
        "        \n",
        "if score == 2:\n",
        "    print(\"Suspeita\")\n",
        "elif score >= 3 and score <= 4:\n",
        "    print(\"Cúmplice\")\n",
        "elif score == 5:\n",
        "    print(\"Assassino\")\n",
        "else:\n",
        "    print(\"Inocente\")"
      ],
      "execution_count": 0,
      "outputs": []
    },
    {
      "cell_type": "markdown",
      "metadata": {
        "id": "KIaZhwy6x_6o",
        "colab_type": "text"
      },
      "source": [
        "**8** Faça um programa que peça uma nota, entre zero e dez. Mostre uma mensagem caso o valor seja inválido e continue pedindo até que o usuário informe um valor válido."
      ]
    },
    {
      "cell_type": "code",
      "metadata": {
        "id": "qRMrK8cEx_6p",
        "colab_type": "code",
        "colab": {}
      },
      "source": [
        "nota = float(input(\"Digite uma nota de 0 a 10: \"))\n",
        "\n",
        "while nota > 10 or nota < 0:\n",
        "    print('Valor inválido')\n",
        "    nota = float(input('Digite uma nota de \"0 a 10\": '))\n",
        "\n",
        "print(f'Nota: {nota}')"
      ],
      "execution_count": 0,
      "outputs": []
    },
    {
      "cell_type": "markdown",
      "metadata": {
        "id": "4BdjMk_Jx_6s",
        "colab_type": "text"
      },
      "source": [
        "**9** Faça um programa que leia 5 números e informe a soma e a média dos números."
      ]
    },
    {
      "cell_type": "code",
      "metadata": {
        "id": "F2vI1NsYx_6t",
        "colab_type": "code",
        "colab": {}
      },
      "source": [
        "numeros = [int(input(f'Digite o {x+1}º numero: ')) for x in range(5)]\n",
        "\n",
        "soma = sum(numeros)\n",
        "\n",
        "print('Os numeros digitados foram:',numeros)\n",
        "print('A SOMA dos numeros:', soma)\n",
        "print('A MEDIA dos numeros:', soma / 5)"
      ],
      "execution_count": 0,
      "outputs": []
    },
    {
      "cell_type": "markdown",
      "metadata": {
        "id": "35R-T9c-x_6x",
        "colab_type": "text"
      },
      "source": [
        "**10** Faça um programa que imprima na tela apenas os números ímpares entre 1 e 50."
      ]
    },
    {
      "cell_type": "code",
      "metadata": {
        "id": "CF5jWL2_x_6x",
        "colab_type": "code",
        "colab": {}
      },
      "source": [
        "print([x for x in range(1, 51)][::2])"
      ],
      "execution_count": 0,
      "outputs": []
    },
    {
      "cell_type": "markdown",
      "metadata": {
        "id": "hJetwwNWx_60",
        "colab_type": "text"
      },
      "source": [
        "**11** Desenvolva um gerador de tabuada, capaz de gerar a tabuada de qualquer número inteiro entre 1 a 10. O usuário deve informar de qual numero ele deseja ver a tabuada. A saída deve ser conforme o exemplo abaixo:\n",
        "\n",
        "`\n",
        "Tabuada do 5:\n",
        "5 X 1 = 5\n",
        "5 X 2 = 10\n",
        "...\n",
        "5 X 10 = 50\n",
        "`"
      ]
    },
    {
      "cell_type": "code",
      "metadata": {
        "id": "JhmZw_pcx_60",
        "colab_type": "code",
        "colab": {}
      },
      "source": [
        "tabuada = int(input(\"Insira o número da tabuada: \"))\n",
        "for mt in range(1, 11):\n",
        "    res = mt*tabuada\n",
        "    print(f\"{tabuada} X {mt} = {res}\")"
      ],
      "execution_count": 0,
      "outputs": []
    },
    {
      "cell_type": "markdown",
      "metadata": {
        "id": "YiVxoBQ3x_62",
        "colab_type": "text"
      },
      "source": [
        "**12** A série de Fibonacci é formada pela seqüência 1,1,2,3,5,8,13,21,34,55,... Faça um programa capaz de gerar a série até o n−ésimo termo."
      ]
    },
    {
      "cell_type": "code",
      "metadata": {
        "id": "kH0enXZBx_63",
        "colab_type": "code",
        "colab": {}
      },
      "source": [
        "b = 1\n",
        "nesimo = int(input(\"Digite até qual termo a série será gerada:\"))\n",
        "for i in range(nesimo):\n",
        "    print(a)\n",
        "    aux = b\n",
        "    b = a + b\n",
        "    a = aux"
      ],
      "execution_count": 0,
      "outputs": []
    },
    {
      "cell_type": "markdown",
      "metadata": {
        "id": "2cHQmGDLx_65",
        "colab_type": "text"
      },
      "source": [
        "**13** Faça um programa que calcule o fatorial de um número inteiro fornecido pelo usuário. Ex.: 5!=5.4.3.2.1=120"
      ]
    },
    {
      "cell_type": "code",
      "metadata": {
        "id": "AoBPuscBx_66",
        "colab_type": "code",
        "colab": {}
      },
      "source": [
        "fat_num = int(input(\"Insira um número: \"))\n",
        "fat_numero = fat_num\n",
        "numeros = []\n",
        "fatorial = 1\n",
        "\n",
        "while(fat_num > 0):\n",
        "    numeros.append(fat_num)\n",
        "    fat_num -= 1\n",
        "\n",
        "for n in numeros:\n",
        "    fatorial *= n\n",
        "\n",
        "print(f'O fatorial de {fat_numero} é:')\n",
        "print (f'{fat_numero}! = {numeros} = {fatorial}')"
      ],
      "execution_count": 0,
      "outputs": []
    },
    {
      "cell_type": "markdown",
      "metadata": {
        "id": "5DBGaMcDx_68",
        "colab_type": "text"
      },
      "source": [
        "**14** Faça um programa que receba o valor de uma dívida e mostre uma tabela com os seguintes dados: valor da dívida, valor dos juros, quantidade de parcelas e valor da parcela.\n",
        "\n",
        "Os juros e a quantidade de parcelas seguem a tabela abaixo:\n",
        "\n",
        "|Quantidade de Parcelas|% de Juros sobre o valor inicial da dívida|\n",
        "|:-|:-|\n",
        "|1       |0\n",
        "|3       |10\n",
        "|6       |15\n",
        "|9       |20\n",
        "|12      |25\n",
        "\n",
        "Exemplo de saída do programa:\n",
        "\n",
        "|Valor da Dívida|Valor dos Juros|Quantidade de Parcelas|Valor da Parcela|\n",
        "|:-|:-|:-|:-|\n",
        "|1.000,00|0|1|1.000,00\n",
        "|1.100,00|100|3|366,00\n",
        "|1.150,00|150|6|191,67\n"
      ]
    },
    {
      "cell_type": "code",
      "metadata": {
        "id": "4GhCSTDjx_68",
        "colab_type": "code",
        "colab": {}
      },
      "source": [
        "import locale\n",
        "locale.setlocale(locale.LC_ALL, 'pt_BR.UTF-8')\n",
        "\n",
        "valor_divida = float(input(\"Digite o valor da divida: \"))\n",
        "\n",
        "dados = [\n",
        "    [1, 0],\n",
        "    [3, 10],\n",
        "    [6, 15],\n",
        "    [9, 20],\n",
        "    [12, 25]\n",
        "]\n",
        "\n",
        "print('Valor da Dívida', 'Valor dos Juros', 'Quantidade de Parcelas', 'Valor da Parcela', sep=\"\\t\")\n",
        "\n",
        "for dado in dados:\n",
        "    valor_com_juros = valor_divida * (1+dado[1]/100)\n",
        "    print(f'{locale.currency(valor_com_juros)}\\t{dado[1]}\\t\\t{dado[0]}\\t\\t\\t{locale.currency(valor_com_juros/dado[0])}')"
      ],
      "execution_count": 0,
      "outputs": []
    },
    {
      "cell_type": "markdown",
      "metadata": {
        "id": "3RN0D69Vx_7A",
        "colab_type": "text"
      },
      "source": [
        "**15** A ACME Inc., uma empresa de 500 funcionários, está tendo problemas de espaço em disco no seu servidor de arquivos. Para tentar resolver este problema, o Administrador de Rede precisa saber qual o espaço ocupado pelos usuários, e identificar os usuários com maior espaço ocupado. Através de um programa, baixado da Internet, ele conseguiu gerar o seguinte arquivo, chamado \"usuarios.txt\":\n",
        "\n",
        "```\n",
        "alexandre       456123789\n",
        "anderson        1245698456\n",
        "antonio         123456456\n",
        "carlos          91257581\n",
        "cesar           987458\n",
        "rosemary        789456125\n",
        "```\n",
        "\n",
        "Neste arquivo, o nome do usuário possui 15 caracteres. A partir deste arquivo, você deve criar um programa que gere um relatório, chamado \"relatório.txt\", no seguinte formato:\n",
        "\n",
        "```\n",
        "ACME Inc.   Uso do espaço em disco pelos usuários\n",
        "-------------------------------------------------\n",
        "Nr.  Usuário        Espaço utilizado     % do uso\n",
        "---- -------------- ---------------- ------------\n",
        "1    alexandre             434,99 MB       16,85%\n",
        "2    anderson             1187,99 MB       46,02%\n",
        "3    antonio               117,73 MB        4,56%\n",
        "4    carlos                 87,03 MB        3,37%\n",
        "5    cesar                   0,94 MB        0,04%\n",
        "6    rosemary              752,88 MB       29,16%\n",
        "\n",
        "Espaço total ocupado: 2581,57 MB\n",
        "Espaço médio ocupado: 430,26 MB\n",
        "```\n",
        "\n",
        "\n",
        "O arquivo de entrada deve ser lido uma única vez, e os dados armazenados em memória, caso sejam necessários, de forma a agilizar a execução do programa. A conversão da espaço ocupado em disco, de bytes para megabytes deverá ser feita através de uma função separada, que será chamada pelo programa principal. O cálculo do percentual de uso também deverá ser feito através de uma função, que será chamada pelo programa principal.\n"
      ]
    },
    {
      "cell_type": "code",
      "metadata": {
        "id": "teGnEKxOx_7A",
        "colab_type": "code",
        "colab": {}
      },
      "source": [
        "#solução"
      ],
      "execution_count": 0,
      "outputs": []
    }
  ]
}