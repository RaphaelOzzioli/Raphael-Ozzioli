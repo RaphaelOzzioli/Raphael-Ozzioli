{
  "nbformat": 4,
  "nbformat_minor": 0,
  "metadata": {
    "kernelspec": {
      "display_name": "Python 3",
      "language": "python",
      "name": "python3"
    },
    "language_info": {
      "codemirror_mode": {
        "name": "ipython",
        "version": 3
      },
      "file_extension": ".py",
      "mimetype": "text/x-python",
      "name": "python",
      "nbconvert_exporter": "python",
      "pygments_lexer": "ipython3",
      "version": "3.6.4"
    },
    "colab": {
      "name": "Raphael Martinez Duarte Ozzioli - USJT-2020-LINGPROG-aula06-pratica-prog_func_intro.ipynb",
      "provenance": [],
      "include_colab_link": true
    }
  },
  "cells": [
    {
      "cell_type": "markdown",
      "metadata": {
        "id": "view-in-github",
        "colab_type": "text"
      },
      "source": [
        "<a href=\"https://colab.research.google.com/github/phclosou/Raphael-Ozzioli/blob/master/Raphael_Martinez_Duarte_Ozzioli_USJT_2020_LINGPROG_aula06_pratica_prog_func_intro.ipynb\" target=\"_parent\"><img src=\"https://colab.research.google.com/assets/colab-badge.svg\" alt=\"Open In Colab\"/></a>"
      ]
    },
    {
      "cell_type": "markdown",
      "metadata": {
        "id": "od19-w8yeA2H",
        "colab_type": "text"
      },
      "source": [
        "![logo_usjt.png](https://www.usjt.br/app/themes/mobister/dist/images/sao-judas-universidade.png)"
      ]
    },
    {
      "cell_type": "markdown",
      "metadata": {
        "id": "AA23DkWKeA2J",
        "colab_type": "text"
      },
      "source": [
        "# Paradigmas de Linguagens de Programação\n",
        "- **Professor**: Sergio Bonato <antonio.bonato@saojudas.br>"
      ]
    },
    {
      "cell_type": "markdown",
      "metadata": {
        "id": "D7qlsiJ8eA2J",
        "colab_type": "text"
      },
      "source": [
        "# Atividade06 - Python - Introdução à Programação Funcional\n",
        "**Conteúdo:**\n",
        "- comparação entre os paradigmas procedural e funcional\n",
        "- vantagens e desvantagens da programação funcional\n",
        "- comparação entre o paradigma orientado a objetos e o paradigma funcional"
      ]
    },
    {
      "cell_type": "markdown",
      "metadata": {
        "id": "WZgZtx1UeA2K",
        "colab_type": "text"
      },
      "source": [
        "## Autor\n",
        "- **Aluno:**\n",
        "\n",
        "Obs: as tarefas devem ser individuais."
      ]
    },
    {
      "cell_type": "markdown",
      "metadata": {
        "id": "NZaxmsUIeA2L",
        "colab_type": "text"
      },
      "source": [
        "### Crie funções recursivas para resolver os problemas abaixo. Faça testes unitários usando asserts."
      ]
    },
    {
      "cell_type": "markdown",
      "metadata": {
        "id": "OcoWPpP0eA2L",
        "colab_type": "text"
      },
      "source": [
        "**1** Defina a função soma_nat que recebe como argumento um número natural  n\n",
        "  e devolve a soma de todos os números naturais até  n.\n",
        "```\n",
        "Ex: soma_nat(5) = 15\n",
        "```"
      ]
    },
    {
      "cell_type": "code",
      "metadata": {
        "id": "HIvYUFEOeA2M",
        "colab_type": "code",
        "colab": {}
      },
      "source": [
        "#solução\n",
        "def soma_nat(n):\n",
        "    return n + soma_nat(n - 1) if n > 0 else 0\n",
        "assert(soma_nat(5)==15)\n",
        "print(soma_nat(5))"
      ],
      "execution_count": 0,
      "outputs": []
    },
    {
      "cell_type": "markdown",
      "metadata": {
        "id": "4Y93On-8eA2Q",
        "colab_type": "text"
      },
      "source": [
        "2 Defina a função div que recebe como argumentos dois números naturais  m\n",
        "  e  n  e devolve o resultado da divisão inteira de  m  por  n. Neste exercício você não pode recorrer às operações aritméticas de multiplicação, divisão e resto da divisão inteira.\n",
        "```\n",
        "Ex: div(7,2) = \n",
        "```"
      ]
    },
    {
      "cell_type": "code",
      "metadata": {
        "id": "VuVU0lJdeA2Q",
        "colab_type": "code",
        "colab": {}
      },
      "source": [
        "#solução\n",
        "def div(m, n):\n",
        "    return 1 + div(m - n, n) if m >= n else 0\n",
        "\n",
        "assert(div(7,2) == 3)\n",
        "print(div(7,2))\n",
        "\n",
        "\n"
      ],
      "execution_count": 0,
      "outputs": []
    },
    {
      "cell_type": "markdown",
      "metadata": {
        "id": "gDHnHD0UeA2U",
        "colab_type": "text"
      },
      "source": [
        "**3** Defina a função prim_alg que recebe como argumento um número natural e devolve o primeiro algarismo (o mais significativo) na representação decimal de  n.\n",
        "```\n",
        "Ex: prim_alg(5649) = 5\n",
        "Ex: prim_alg(7) = 7\n",
        "```"
      ]
    },
    {
      "cell_type": "code",
      "metadata": {
        "id": "RwA-NX9NeA2U",
        "colab_type": "code",
        "colab": {}
      },
      "source": [
        "#solução\n",
        "\n",
        "prim_alg = lambda n: n[0]\n",
        "      \n",
        "assert(prim_alg(str(56789)) == '5')\n",
        "print (prim_alg('5649'))\n",
        "print(prim_alg('7'))\n"
      ],
      "execution_count": 0,
      "outputs": []
    },
    {
      "cell_type": "markdown",
      "metadata": {
        "id": "bhr28H6peA2X",
        "colab_type": "text"
      },
      "source": [
        "**4** Defina a função prod_lista que recebe como argumento uma lista de inteiros e devolve o produto dos seus elementos.\n",
        "```\n",
        "Ex: prod_lista([1,2,3,4,5,6]) = 720\n",
        "```"
      ]
    },
    {
      "cell_type": "code",
      "metadata": {
        "id": "eKWMS3JzeA2Y",
        "colab_type": "code",
        "colab": {}
      },
      "source": [
        "#solução\n",
        "\n",
        "def prod_lista(lista):\n",
        "    return lista[len(lista) - 1] * prod_lista(lista[:-1]) if len(lista) > 0 else 1\n",
        "\n",
        "assert(prod_lista([1,2,3,4,5,6]) == 720)\n",
        "print(prod_lista([1,2,3,4,5,6]))\n",
        "\n"
      ],
      "execution_count": 0,
      "outputs": []
    },
    {
      "cell_type": "markdown",
      "metadata": {
        "id": "9x20-OQFeA2b",
        "colab_type": "text"
      },
      "source": [
        "**5** Defina a função contem_parQ que recebe como argumento uma lista de números inteiros  w e devolve True se w contém um número par e False em caso contrário.\n",
        "```\n",
        "Ex: contem_parQ([2,3,1,2,3,4]) = True\n",
        "Ex: contem_parQ([1,3,5,7]) = False\n",
        "```"
      ]
    },
    {
      "cell_type": "code",
      "metadata": {
        "id": "BaWheUlfeA2b",
        "colab_type": "code",
        "colab": {}
      },
      "source": [
        "#solução\n",
        "def contem_parQ(w):\n",
        "    return False if len(w) == 0 or (w[len(w) - 1] % 2 != 0 and not contem_parQ(w[:-1])) else True\n",
        "\n",
        "assert(contem_parQ([2,3,1,2,3,4]) == True)\n",
        "assert(contem_parQ([1,3,5,7]) == False)\n",
        "print(contem_parQ([2,3,1,2,3,4]))\n",
        "print(contem_parQ([1,3,5,7]))\n"
      ],
      "execution_count": 0,
      "outputs": []
    },
    {
      "cell_type": "markdown",
      "metadata": {
        "id": "Hf9eTMioeA2f",
        "colab_type": "text"
      },
      "source": [
        "6 Defina a função todos_imparesQ que recebe como argumento uma lista de números inteiros w e devolve True se  w contém apenas números ímpares e False em caso contrário.\n",
        "```\n",
        "Ex: todos_imparesQ([1,3,5,7]) = True\n",
        "Ex: todos_imparesQ([]) = True\n",
        "Ex: todos_imparesQ([1,2,3,4,5]) = False\n",
        "```"
      ]
    },
    {
      "cell_type": "code",
      "metadata": {
        "id": "FP3SCTd3eA2f",
        "colab_type": "code",
        "colab": {}
      },
      "source": [
        "#solução\n",
        "def todos_imparesQ(w):\n",
        "    return True if len(w) == 0 or (w[len(w) - 1] % 2 != 0 and todos_imparesQ(w[:-1])) else False\n",
        "\n",
        "assert(todos_imparesQ([1,3,5,7]) == True)\n",
        "assert(todos_imparesQ([]) == True)\n",
        "assert(todos_imparesQ([1,2,3,4,5]) == False)\n",
        "\n",
        "print(todos_imparesQ([1,3,5,7]))\n",
        "print(todos_imparesQ([]))\n",
        "print(todos_imparesQ([1,2,3,4,5]))\n",
        "\n"
      ],
      "execution_count": 0,
      "outputs": []
    },
    {
      "cell_type": "markdown",
      "metadata": {
        "id": "eqF9Vb61eA2i",
        "colab_type": "text"
      },
      "source": [
        "**7** Defina a função pertenceQ que recebe como argumentos uma lista de números inteiros  w  e um número inteiro  n  e devolve True se  n  ocorre em  w  e False em caso contrário.\n",
        "```\n",
        "Ex: pertenceQ([1,2,3],1) = True\n",
        "Ex: pertenceQ([1,2,3],2) = True\n",
        "Ex: pertenceQ([1,2,3],3) = True\n",
        "Ex: pertenceQ([1,2,3],4) = False\n",
        "```"
      ]
    },
    {
      "cell_type": "code",
      "metadata": {
        "id": "OGL_W4FzeA2j",
        "colab_type": "code",
        "colab": {}
      },
      "source": [
        "#solução\n",
        "def pertenceQ(w, n):\n",
        "    return True if n in w else False\n",
        "\n",
        "assert(pertenceQ([1,2,3],1) == True)\n",
        "assert(pertenceQ([1,2,3],2) == True)\n",
        "assert(pertenceQ([1,2,3],3) == True)\n",
        "assert(pertenceQ([1,2,3],4) == False)\n",
        "\n",
        "print(pertenceQ([1,2,3],1))\n",
        "print(pertenceQ([1,2,3],2))\n",
        "print(pertenceQ([1,2,3],3))\n",
        "print(pertenceQ([1,2,3],4))\n",
        "\n"
      ],
      "execution_count": 0,
      "outputs": []
    },
    {
      "cell_type": "markdown",
      "metadata": {
        "id": "8x2u8SGieA2m",
        "colab_type": "text"
      },
      "source": [
        "**8** Defina a função junta que recebe como argumentos duas listas de números inteiros  w1  e  w2  e devolve a concatenação de  w1  com  w2 .\n",
        "```\n",
        "Ex: junta([1,2,3],[4,5,6]) = [1, 2, 3, 4, 5, 6]\n",
        "Ex: junta([],[4,5,6]) = [4, 5, 6]\n",
        "Ex: junta([1,2,3],[]) = [1, 2, 3]\n",
        "```"
      ]
    },
    {
      "cell_type": "code",
      "metadata": {
        "id": "2-81R-ukeA2m",
        "colab_type": "code",
        "colab": {}
      },
      "source": [
        "#solução\n",
        "\n",
        "def junta(w1, w2):\n",
        "    return w1 + w2\n",
        "\n",
        "assert(junta([1,2,3],[4,5,6]) == [1, 2, 3, 4, 5, 6] )\n",
        "assert(junta([],[4,5,6]) == [4, 5, 6] )\n",
        "assert(junta([1,2,3],[]) == [1, 2, 3])\n",
        "\n",
        "print(junta([1,2,3],[4,5,6]))\n",
        "print(junta([],[4,5,6]))\n",
        "print(junta([1,2,3],[]))\n"
      ],
      "execution_count": 0,
      "outputs": []
    },
    {
      "cell_type": "markdown",
      "metadata": {
        "id": "NUPRG4wreA2p",
        "colab_type": "text"
      },
      "source": [
        "**9** Defina a função temPrimoQ que recebe como argumento uma lista de listas de números inteiros  w  e devolve True se alguma das sublistas  w  tem um número primo e False em caso contrário.\n",
        "```\n",
        "Ex: temPrimoQ([[4,4,4,4],[5,4,6,7],[2,4,3]]) = True\n",
        "Ex: temPrimoQ([[4,4,4,4],[4,4,4],[],[4]]) = False\n",
        "```"
      ]
    },
    {
      "cell_type": "code",
      "metadata": {
        "id": "FaaUnBHWeA2q",
        "colab_type": "code",
        "colab": {}
      },
      "source": [
        "#solução\n",
        "\n",
        "def auxTemPrimoQ(w):\n",
        "    return not(len(w) == 0 or(not(( w[0] % 2 != 0 and\n",
        "                                    w[0] % 3 != 0 and\n",
        "                                    w[0] % 5 != 0 and\n",
        "                                    w[0] % 7 != 0 and\n",
        "                                    w[0] % 11 != 0) or w.pop() in [2,3,5,7,11]) and not auxTemPrimoQ(w)))\n",
        "\n",
        "def temPrimoQ(w):    \n",
        "    return not(len(w) == 0 or (not(auxTemPrimoQ(w.pop())) and not temPrimoQ(w)))\n",
        "\n",
        "assert(temPrimoQ([[4,4,4,4],[5,4,6,7],[2,4,3]]) == True)\n",
        "assert(temPrimoQ([[4,4,4,4],[4,4,4],[],[4]]) == False)\n",
        "\n",
        "print('temPrimoQ([[4,4,4,4],[5,4,6,7],[2,4,3]]) =',temPrimoQ([[4,4,4,4],[5,4,6,7],[2,4,3]]))\n",
        "print('temPrimoQ([[4,4,4,4],[4,4,4],[],[4]]) =',temPrimoQ([[4,4,4,4],[4,4,4],[],[4]]))\n",
        "print('temPrimoQ([[1,2,3],[1,2,3],[1,2,3],[1,2,3]]) =',temPrimoQ([[1,2,3],[1,2,3],[1,2,3],[1,2,3]]))\n",
        "\n"
      ],
      "execution_count": 0,
      "outputs": []
    },
    {
      "cell_type": "markdown",
      "metadata": {
        "id": "HVduBnkveA2v",
        "colab_type": "text"
      },
      "source": [
        "**10** Defina a função inverteLista que recebe como argumento uma lista  w e devolve a mesma lista mas invertida.\n",
        "```\n",
        "Ex: inverteLista([1,2,3,4,5]) = [5, 4, 3, 2, 1]\n",
        "Ex: inverteLista([])\n",
        "```"
      ]
    },
    {
      "cell_type": "code",
      "metadata": {
        "id": "6rDJc54peA2w",
        "colab_type": "code",
        "colab": {}
      },
      "source": [
        "#solução\n",
        "\n",
        "def inverteLista(w):\n",
        "    return w[::-1]\n",
        "\n",
        "assert(inverteLista([1,2,3,4,5]) == [5, 4, 3, 2, 1] )\n",
        "\n",
        "print(inverteLista([1,2,3,4,5]))\n",
        "print(inverteLista([]))\n",
        "print(inverteLista([6,7,8,9,10]))\n"
      ],
      "execution_count": 0,
      "outputs": []
    }
  ]
}