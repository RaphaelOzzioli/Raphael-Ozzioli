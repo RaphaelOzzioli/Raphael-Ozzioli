{
  "nbformat": 4,
  "nbformat_minor": 0,
  "metadata": {
    "kernelspec": {
      "display_name": "Python 3",
      "language": "python",
      "name": "python3"
    },
    "language_info": {
      "codemirror_mode": {
        "name": "ipython",
        "version": 3
      },
      "file_extension": ".py",
      "mimetype": "text/x-python",
      "name": "python",
      "nbconvert_exporter": "python",
      "pygments_lexer": "ipython3",
      "version": "3.6.4"
    },
    "colab": {
      "name": "Raphael Martinez Duarte Ozzioli - USJT-2020-LINGPROG-aula08-pratica-hof-monads-exceptions.ipynb",
      "provenance": [],
      "include_colab_link": true
    }
  },
  "cells": [
    {
      "cell_type": "markdown",
      "metadata": {
        "id": "view-in-github",
        "colab_type": "text"
      },
      "source": [
        "<a href=\"https://colab.research.google.com/github/phclosou/Raphael-Ozzioli/blob/master/Raphael_Martinez_Duarte_Ozzioli_USJT_2020_LINGPROG_aula08_pratica_hof_monads_exceptions.ipynb\" target=\"_parent\"><img src=\"https://colab.research.google.com/assets/colab-badge.svg\" alt=\"Open In Colab\"/></a>"
      ]
    },
    {
      "cell_type": "markdown",
      "metadata": {
        "id": "jUD3pYXFI58o",
        "colab_type": "text"
      },
      "source": [
        "![logo_usjt.png](https://www.usjt.br/app/themes/mobister/dist/images/sao-judas-universidade.png)"
      ]
    },
    {
      "cell_type": "markdown",
      "metadata": {
        "id": "YHANjLiXI58p",
        "colab_type": "text"
      },
      "source": [
        "# Paradigmas de Linguagens de Programação\n",
        "- **Professor**: Sergio Bonato <antonio.bonato@saojudas.br>"
      ]
    },
    {
      "cell_type": "markdown",
      "metadata": {
        "id": "QF2YI9PxI58q",
        "colab_type": "text"
      },
      "source": [
        "# Atividade08 - Python - Higher Order Functions e Monads\n",
        "**Conteúdo:**\n",
        "- higher order functions\n",
        "- funções retornando funções\n",
        "- funções retornanando operadores\n",
        "- maybe monads\n",
        "- list monads\n",
        "- exceptions na programação funcional"
      ]
    },
    {
      "cell_type": "markdown",
      "metadata": {
        "id": "Rcql7Da5I58r",
        "colab_type": "text"
      },
      "source": [
        "## Autor\n",
        "- **Aluno:**\n",
        "\n",
        "Obs: as tarefas devem ser individuais."
      ]
    },
    {
      "cell_type": "markdown",
      "metadata": {
        "id": "KiEdqHmfI58s",
        "colab_type": "text"
      },
      "source": [
        "### As questões desta atividade são as mesmas da atividade anterior. Agora você deve utilizar maybe monads para fazer o tratamento de exceções quando necessário. Continue fazendo testes unitários usando asserts."
      ]
    },
    {
      "cell_type": "markdown",
      "metadata": {
        "id": "zwTIL1vcI58t",
        "colab_type": "text"
      },
      "source": [
        "**1** Defina a função soma_nat que recebe como argumento um número natural  n\n",
        "  e devolve a soma de todos os números naturais até  n.\n",
        "```\n",
        "Ex: soma_nat(5) = 15\n",
        "```"
      ]
    },
    {
      "cell_type": "code",
      "metadata": {
        "id": "OPlh8oz_I58u",
        "colab_type": "code",
        "colab": {}
      },
      "source": [
        "def maybe(fnc):\n",
        "    def inner(*args):\n",
        "        for a in args:\n",
        "            if isinstance(a, Exception):\n",
        "                return a\n",
        "        try:\n",
        "            return fnc(*args)\n",
        "        except Exception as e:\n",
        "            return e\n",
        "    return inner\n",
        "\n",
        "soma_nat = maybe(lambda n:n + soma_nat(n-1) if n > 1 else 1)\n",
        "\n",
        "assert(soma_nat(5) == 15)\n",
        "\n",
        "print('soma_nat(5) =',soma_nat(5))\n",
        "print('soma_nat(100) =',soma_nat(100))\n"
      ],
      "execution_count": 0,
      "outputs": []
    },
    {
      "cell_type": "markdown",
      "metadata": {
        "id": "bcoo0MdiI58z",
        "colab_type": "text"
      },
      "source": [
        "2 Defina a função div que recebe como argumentos dois números naturais  m\n",
        "  e  n  e devolve o resultado da divisão inteira de  m  por  n. Neste exercício você não pode recorrer às operações aritméticas de multiplicação, divisão e resto da divisão inteira.\n",
        "```\n",
        "Ex: div(7,2) = \n",
        "```"
      ]
    },
    {
      "cell_type": "code",
      "metadata": {
        "id": "WbvhqmVDI580",
        "colab_type": "code",
        "colab": {}
      },
      "source": [
        "def maybe(fnc):\n",
        "    def inner(*args):\n",
        "        for a in args:\n",
        "            if isinstance(a, Exception):\n",
        "                return a\n",
        "        try:\n",
        "            return fnc(*args)\n",
        "        except Exception as e:\n",
        "            return e\n",
        "    return inner\n",
        "\n",
        "div = maybe(lambda m, n:1 + div(m - n, n) if m >= n else 0)\n",
        "\n",
        "assert(div(7,2) == 3)\n",
        "\n",
        "print('div(7,2) =',div(7,2))\n",
        "print('div(3,2) =',div(3,2))\n"
      ],
      "execution_count": 0,
      "outputs": []
    },
    {
      "cell_type": "markdown",
      "metadata": {
        "id": "ahKCtlOlI584",
        "colab_type": "text"
      },
      "source": [
        "**3** Defina a função prim_alg que recebe como argumento um número natural e devolve o primeiro algarismo (o mais significativo) na representação decimal de  n.\n",
        "```\n",
        "Ex: prim_alg(5649) = 5\n",
        "Ex: prim_alg(7) = 7\n",
        "```"
      ]
    },
    {
      "cell_type": "code",
      "metadata": {
        "id": "FbnxzeXjI585",
        "colab_type": "code",
        "colab": {}
      },
      "source": [
        "def maybe(fnc):\n",
        "    def inner(*args):\n",
        "        for a in args:\n",
        "            if isinstance(a, Exception):\n",
        "                return a\n",
        "        try:\n",
        "            return fnc(*args)\n",
        "        except Exception as e:\n",
        "            return e\n",
        "    return inner\n",
        "\n",
        "prim_alg = maybe(lambda n:int(n) if n < 10 else prim_alg(n/10))\n",
        "\n",
        "assert(prim_alg(5649) == 5)\n",
        "assert(prim_alg(7) == 7)\n",
        "\n",
        "print('prim_alg(5649) =',prim_alg(5649))\n",
        "print('prim_alg(7) =',prim_alg(7))\n",
        "print('prim_alg(123) =',prim_alg(123))\n"
      ],
      "execution_count": 0,
      "outputs": []
    },
    {
      "cell_type": "markdown",
      "metadata": {
        "id": "hWY85Lx7I589",
        "colab_type": "text"
      },
      "source": [
        "**4** Defina a função prod_lista que recebe como argumento uma lista de inteiros e devolve o produto dos seus elementos.\n",
        "```\n",
        "Ex: prod_lista([1,2,3,4,5,6]) = 720\n",
        "```"
      ]
    },
    {
      "cell_type": "code",
      "metadata": {
        "id": "5rUveGXxI589",
        "colab_type": "code",
        "colab": {}
      },
      "source": [
        "def maybe(fnc):\n",
        "    def inner(*args):\n",
        "        for a in args:\n",
        "            if isinstance(a, Exception):\n",
        "                return a\n",
        "        try:\n",
        "            return fnc(*args)\n",
        "        except Exception as e:\n",
        "            return e\n",
        "    return inner\n",
        "\n",
        "prod_lista = maybe(lambda lista:lista[len(lista) - 1] * prod_lista(lista[:-1]) if len(lista) > 0 else 1)\n",
        "\n",
        "assert(prod_lista([1,2,3,4,5,6]) == 720)\n",
        "assert(prod_lista([3,6,9]) == 162)\n",
        "\n",
        "print('prod_lista([1,2,3,4,5,6]) =',prod_lista([1,2,3,4,5,6]))\n",
        "print('prod_lista([3,6,9]) =',prod_lista([3,6,9]))\n",
        "print('prod_lista([1,2,3]) =',prod_lista([1,2,3]))\n"
      ],
      "execution_count": 0,
      "outputs": []
    },
    {
      "cell_type": "markdown",
      "metadata": {
        "id": "bbRIQE75I59B",
        "colab_type": "text"
      },
      "source": [
        "**5** Defina a função contem_parQ que recebe como argumento uma lista de números inteiros  w e devolve True se w contém um número par e False em caso contrário.\n",
        "```\n",
        "Ex: contem_parQ([2,3,1,2,3,4]) = True\n",
        "Ex: contem_parQ([1,3,5,7]) = False\n",
        "```"
      ]
    },
    {
      "cell_type": "code",
      "metadata": {
        "id": "9exSTfb9I59C",
        "colab_type": "code",
        "colab": {}
      },
      "source": [
        "def maybe(fnc):\n",
        "    def inner(*args):\n",
        "        for a in args:\n",
        "            if isinstance(a, Exception):\n",
        "                return a\n",
        "        try:\n",
        "            return fnc(*args)\n",
        "        except Exception as e:\n",
        "            return e\n",
        "    return inner\n",
        "\n",
        "contem_parQ = maybe(lambda w:False if len(w) == 0 or (w[len(w) - 1] % 2 != 0 and not contem_parQ(w[:-1])) else True)\n",
        "\n",
        "assert(contem_parQ([2,3,1,2,3,4]) == True)\n",
        "assert(contem_parQ([1,3,5,7]) == False)\n",
        "\n",
        "print('contem_parQ([2,3,1,2,3,4]) =',contem_parQ([2,3,1,2,3,4]))\n",
        "print('contem_parQ([1,3,5,7]) =',contem_parQ([1,3,5,7]))\n",
        "print('contem_parQ([4,5,6]) =',contem_parQ([4,5,6]))\n",
        "\n"
      ],
      "execution_count": 0,
      "outputs": []
    },
    {
      "cell_type": "markdown",
      "metadata": {
        "id": "ksPOLdupI59F",
        "colab_type": "text"
      },
      "source": [
        "6 Defina a função todos_imparesQ que recebe como argumento uma lista de números inteiros w e devolve True se  w contém apenas números ímpares e False em caso contrário.\n",
        "```\n",
        "Ex: todos_imparesQ([1,3,5,7]) = True\n",
        "Ex: todos_imparesQ([]) = True\n",
        "Ex: todos_imparesQ([1,2,3,4,5]) = False\n",
        "```"
      ]
    },
    {
      "cell_type": "code",
      "metadata": {
        "id": "KIH6dbsBI59G",
        "colab_type": "code",
        "colab": {}
      },
      "source": [
        "def maybe(fnc):\n",
        "    def inner(*args):\n",
        "        for a in args:\n",
        "            if isinstance(a, Exception):\n",
        "                return a\n",
        "        try:\n",
        "            return fnc(*args)\n",
        "        except Exception as e:\n",
        "            return e\n",
        "    return inner\n",
        "\n",
        "todos_imparesQ = maybe(lambda w:True if len(w) == 0 or (w[len(w) - 1] % 2 != 0 and todos_imparesQ(w[:-1])) else False)\n",
        "\n",
        "assert(todos_imparesQ([1,3,5,7]) == True)\n",
        "assert(todos_imparesQ([]) == True)\n",
        "assert(todos_imparesQ([1,2,3,4,5]) == False)\n",
        "\n",
        "print('todos_imparesQ([1,3,5,7]) =',todos_imparesQ([1,3,5,7]))\n",
        "print('todos_imparesQ([]) =',todos_imparesQ([]))\n",
        "print('todos_imparesQ([1,2,3,4,5]) =',todos_imparesQ([1,2,3,4,5]))\n",
        "print('todos_imparesQ([1,3,5,7]) =',todos_imparesQ([1,3,5,7]))\n"
      ],
      "execution_count": 0,
      "outputs": []
    },
    {
      "cell_type": "markdown",
      "metadata": {
        "id": "aeAe8FnxI59K",
        "colab_type": "text"
      },
      "source": [
        "**7** Defina a função pertenceQ que recebe como argumentos uma lista de números inteiros  w  e um número inteiro  n  e devolve True se  n  ocorre em  w  e False em caso contrário.\n",
        "```\n",
        "Ex: pertenceQ([1,2,3],1) = True\n",
        "Ex: pertenceQ([1,2,3],2) = True\n",
        "Ex: pertenceQ([1,2,3],3) = True\n",
        "Ex: pertenceQ([1,2,3],4) = False\n",
        "```"
      ]
    },
    {
      "cell_type": "code",
      "metadata": {
        "id": "PKrEWghHI59K",
        "colab_type": "code",
        "colab": {}
      },
      "source": [
        "def maybe(fnc):\n",
        "    def inner(*args):\n",
        "        for a in args:\n",
        "            if isinstance(a, Exception):\n",
        "                return a\n",
        "        try:\n",
        "            return fnc(*args)\n",
        "        except Exception as e:\n",
        "            return e\n",
        "    return inner\n",
        "\n",
        "pertenceQ = maybe(lambda w, n:not(len(w) == 0 or (w.pop() != n and not pertenceQ(w, n))))\n",
        "\n",
        "assert(pertenceQ([1,2,3],1) == True)\n",
        "assert(pertenceQ([1,2,3],2) == True)\n",
        "assert(pertenceQ([1,2,3],3) == True)\n",
        "assert(pertenceQ([1,2,3],4) == False)\n",
        "\n",
        "print('pertenceQ([1,2,3],1) =',pertenceQ([1,2,3],1))\n",
        "print('pertenceQ([1,2,3],2) =',pertenceQ([1,2,3],2))\n",
        "print('pertenceQ([1,2,3],3) =',pertenceQ([1,2,3],3))\n",
        "print('pertenceQ([1,2,3],4) =',pertenceQ([1,2,3],4))\n",
        "print('pertenceQ([12,13,14],0) =',pertenceQ([12,13,14],0))\n"
      ],
      "execution_count": 0,
      "outputs": []
    },
    {
      "cell_type": "markdown",
      "metadata": {
        "id": "AGHlMs8II59N",
        "colab_type": "text"
      },
      "source": [
        "**8** Defina a função junta que recebe como argumentos duas listas de números inteiros  w1  e  w2  e devolve a concatenação de  w1  com  w2 .\n",
        "```\n",
        "Ex: junta([1,2,3],[4,5,6]) = [1, 2, 3, 4, 5, 6]\n",
        "Ex: junta([],[4,5,6]) = [4, 5, 6]\n",
        "Ex: junta([1,2,3],[]) = [1, 2, 3]\n",
        "```"
      ]
    },
    {
      "cell_type": "code",
      "metadata": {
        "id": "q_8Ntsa1I59O",
        "colab_type": "code",
        "colab": {}
      },
      "source": [
        "def maybe(fnc):\n",
        "    def inner(*args):\n",
        "        for a in args:\n",
        "            if isinstance(a, Exception):\n",
        "                return a\n",
        "        try:\n",
        "            return fnc(*args)\n",
        "        except Exception as e:\n",
        "            return e\n",
        "    return inner\n",
        "\n",
        "junta = maybe(lambda w1, w2:w1 + junta(w2[0:1], w2[1:]) if len(w2) > 0 else w1 + w2)\n",
        "\n",
        "assert(junta([1,2,3],[4,5,6]) == [1, 2, 3, 4, 5, 6])\n",
        "assert(junta([],[4,5,6]) == [4, 5, 6])\n",
        "assert(junta([1,2,3],[]) == [1, 2, 3])\n",
        "\n",
        "print('junta([1,2,3],[4,5,6]) =',junta([1,2,3],[4,5,6]))\n",
        "print('junta([],[4,5,6]) =',junta([],[4,5,6]) )\n",
        "print('junta([1,2,3],[]) =',junta([1,2,3],[]) )\n",
        "print('junta([0],[0]) =',junta([0],[0]) )\n"
      ],
      "execution_count": 0,
      "outputs": []
    },
    {
      "cell_type": "markdown",
      "metadata": {
        "id": "0M6g9kpUI59R",
        "colab_type": "text"
      },
      "source": [
        "**9** Defina a função temPrimoQ que recebe como argumento uma lista de listas de números inteiros  w  e devolve True se alguma das sublistas  w  tem um número primo e False em caso contrário.\n",
        "```\n",
        "Ex: temPrimoQ([[4,4,4,4],[5,4,6,7],[2,4,3]]) = True\n",
        "Ex: temPrimoQ([[4,4,4,4],[4,4,4],[],[4]]) = False\n",
        "```"
      ]
    },
    {
      "cell_type": "code",
      "metadata": {
        "id": "oEYbQVT-I59R",
        "colab_type": "code",
        "colab": {}
      },
      "source": [
        "def maybe(fnc):\n",
        "    def inner(*args):\n",
        "        for a in args:\n",
        "            if isinstance(a, Exception):\n",
        "                return a\n",
        "        try:\n",
        "            return fnc(*args)\n",
        "        except Exception as e:\n",
        "            return e\n",
        "    return inner\n",
        "\n",
        "auxTemPrimoQ = maybe(lambda w:not(len(w) == 0 or(not(( w[0] % 2 != 0 and\n",
        "                                    w[0] % 3 != 0 and\n",
        "                                    w[0] % 5 != 0 and\n",
        "                                    w[0] % 7 != 0 and\n",
        "                                    w[0] % 11 != 0) or w.pop() in [2,3,5,7,11]) and not auxTemPrimoQ(w))))\n",
        "\n",
        "temPrimoQ = maybe(lambda w:not(len(w) == 0 or (not(auxTemPrimoQ(w.pop())) and not temPrimoQ(w))))\n",
        "\n",
        "assert(temPrimoQ([[4,4,4,4],[5,4,6,7],[2,4,3]]) == True)\n",
        "assert(temPrimoQ([[4,4,4,4],[4,4,4],[],[4]]) == False)\n",
        "\n",
        "print('temPrimoQ([[4,4,4,4],[5,4,6,7],[2,4,3]]) =',temPrimoQ([[4,4,4,4],[5,4,6,7],[2,4,3]]))\n",
        "print('temPrimoQ([[4,4,4,4],[4,4,4],[],[4]]) =',temPrimoQ([[4,4,4,4],[4,4,4],[],[4]]))\n",
        "print('temPrimoQ([[1,2,3],[1,2,3],[1,2,3],[1,2,3]]) =',temPrimoQ([[1,2,3],[1,2,3],[1,2,3],[1,2,3]]))\n"
      ],
      "execution_count": 0,
      "outputs": []
    },
    {
      "cell_type": "markdown",
      "metadata": {
        "id": "kZNHXpaDI59U",
        "colab_type": "text"
      },
      "source": [
        "**10** Defina a função inverteLista que recebe como argumento uma lista  w e devolve a mesma lista mas invertida.\n",
        "```\n",
        "Ex: inverteLista([1,2,3,4,5]) = [5, 4, 3, 2, 1]\n",
        "Ex: inverteLista([])\n",
        "```"
      ]
    },
    {
      "cell_type": "code",
      "metadata": {
        "id": "gH-uLtDcI59V",
        "colab_type": "code",
        "colab": {}
      },
      "source": [
        "def maybe(fnc):\n",
        "    def inner(*args):\n",
        "        for a in args:\n",
        "            if isinstance(a, Exception):\n",
        "                return a\n",
        "        try:\n",
        "            return fnc(*args)\n",
        "        except Exception as e:\n",
        "            return e\n",
        "    return inner\n",
        "\n",
        "inverteLista = maybe(lambda w:[w[len(w) - 1]] + (inverteLista(w[:-1])) if len(w) > 0 else [])\n",
        "\n",
        "assert(inverteLista([1,2,3,4,5]) == [5, 4, 3, 2, 1])\n",
        "assert(inverteLista([]) == [])\n",
        "assert(inverteLista([5,5,5]) == [5, 5, 5])\n",
        "\n",
        "print('inverteLista([1,2,3,4,5]) =',inverteLista([1,2,3,4,5]))\n",
        "print('inverteLista([]) =',inverteLista([]))\n",
        "print('inverteLista([5,5,5]) =',inverteLista([5,5,5]))\n"
      ],
      "execution_count": 0,
      "outputs": []
    }
  ]
}