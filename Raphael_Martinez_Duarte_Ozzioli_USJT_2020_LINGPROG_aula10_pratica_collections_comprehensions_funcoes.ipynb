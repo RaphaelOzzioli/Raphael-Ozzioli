{
  "nbformat": 4,
  "nbformat_minor": 0,
  "metadata": {
    "kernelspec": {
      "display_name": "Python 3",
      "language": "python",
      "name": "python3"
    },
    "language_info": {
      "codemirror_mode": {
        "name": "ipython",
        "version": 3
      },
      "file_extension": ".py",
      "mimetype": "text/x-python",
      "name": "python",
      "nbconvert_exporter": "python",
      "pygments_lexer": "ipython3",
      "version": "3.6.4"
    },
    "colab": {
      "name": "Raphael Martinez Duarte Ozzioli - USJT-2020-LINGPROG-aula10-pratica-collections-comprehensions-funcoes.ipynb",
      "provenance": [],
      "include_colab_link": true
    }
  },
  "cells": [
    {
      "cell_type": "markdown",
      "metadata": {
        "id": "view-in-github",
        "colab_type": "text"
      },
      "source": [
        "<a href=\"https://colab.research.google.com/github/phclosou/Raphael-Ozzioli/blob/master/Raphael_Martinez_Duarte_Ozzioli_USJT_2020_LINGPROG_aula10_pratica_collections_comprehensions_funcoes.ipynb\" target=\"_parent\"><img src=\"https://colab.research.google.com/assets/colab-badge.svg\" alt=\"Open In Colab\"/></a>"
      ]
    },
    {
      "cell_type": "markdown",
      "metadata": {
        "id": "Pq1HmFI1Y52X",
        "colab_type": "text"
      },
      "source": [
        "![logo_usjt.png](https://www.usjt.br/app/themes/mobister/dist/images/sao-judas-universidade.png)"
      ]
    },
    {
      "cell_type": "markdown",
      "metadata": {
        "id": "UAtwgNhgY52Y",
        "colab_type": "text"
      },
      "source": [
        "# Paradigmas de Linguagens de Programação\n",
        "- **Professor**: Sergio Bonato <antonio.bonato@saojudas.br>"
      ]
    },
    {
      "cell_type": "markdown",
      "metadata": {
        "id": "R6oTS8xxY52Z",
        "colab_type": "text"
      },
      "source": [
        "# Atividade10 - Python - Collections - Comprehensions - Funções\n",
        "**Conteúdo:**\n",
        "- Collections\n",
        "- List Comprehensions\n",
        "- Dictionary Comprehensions\n",
        "- Set Comprehensions\n",
        "- Generator Comprehensions\n",
        "- Funções pré-definidas que trabalham com iteradores\n",
        "- Funções numéricas e lógicas que trabalham com iteradores"
      ]
    },
    {
      "cell_type": "markdown",
      "metadata": {
        "id": "SqP8d2aSY52a",
        "colab_type": "text"
      },
      "source": [
        "## Autor\n",
        "- **Aluno:**\n",
        "\n",
        "Obs: as tarefas devem ser individuais."
      ]
    },
    {
      "cell_type": "markdown",
      "metadata": {
        "id": "rbmokot6Y52b",
        "colab_type": "text"
      },
      "source": [
        "Implemente os exercícios abaixo usando comprehensions, map, filter e lambdas. Utilizar maybe monads para fazer o tratamento de exceções quando necessário. "
      ]
    },
    {
      "cell_type": "markdown",
      "metadata": {
        "id": "kpk466MWY52b",
        "colab_type": "text"
      },
      "source": [
        "**1** Faça um programa que leia 5 números e informe o maior número."
      ]
    },
    {
      "cell_type": "code",
      "metadata": {
        "id": "jKv0bh1HY52c",
        "colab_type": "code",
        "colab": {
          "base_uri": "https://localhost:8080/",
          "height": 232
        },
        "outputId": "4edb2d76-d139-403e-a730-4b2d57cde341"
      },
      "source": [
        "## solução\n",
        "get_numero = maybe_number(lambda mensagem: int(input(mensagem)))\n",
        "get_cinco_numeros = lambda: [get_numero(f\"Digite o {x}º numero: \") for x in range(1, 6)]\n",
        "\n",
        "print(f'O maior numero é {max(get_cinco_numeros())}')\n"
      ],
      "execution_count": 1,
      "outputs": [
        {
          "output_type": "error",
          "ename": "NameError",
          "evalue": "ignored",
          "traceback": [
            "\u001b[0;31m---------------------------------------------------------------------------\u001b[0m",
            "\u001b[0;31mNameError\u001b[0m                                 Traceback (most recent call last)",
            "\u001b[0;32m<ipython-input-1-711e128f3827>\u001b[0m in \u001b[0;36m<module>\u001b[0;34m()\u001b[0m\n\u001b[1;32m      1\u001b[0m \u001b[0;31m## solução\u001b[0m\u001b[0;34m\u001b[0m\u001b[0;34m\u001b[0m\u001b[0;34m\u001b[0m\u001b[0m\n\u001b[0;32m----> 2\u001b[0;31m \u001b[0mget_numero\u001b[0m \u001b[0;34m=\u001b[0m \u001b[0mmaybe_number\u001b[0m\u001b[0;34m(\u001b[0m\u001b[0;32mlambda\u001b[0m \u001b[0mmensagem\u001b[0m\u001b[0;34m:\u001b[0m \u001b[0mint\u001b[0m\u001b[0;34m(\u001b[0m\u001b[0minput\u001b[0m\u001b[0;34m(\u001b[0m\u001b[0mmensagem\u001b[0m\u001b[0;34m)\u001b[0m\u001b[0;34m)\u001b[0m\u001b[0;34m)\u001b[0m\u001b[0;34m\u001b[0m\u001b[0;34m\u001b[0m\u001b[0m\n\u001b[0m\u001b[1;32m      3\u001b[0m \u001b[0mget_cinco_numeros\u001b[0m \u001b[0;34m=\u001b[0m \u001b[0;32mlambda\u001b[0m\u001b[0;34m:\u001b[0m \u001b[0;34m[\u001b[0m\u001b[0mget_numero\u001b[0m\u001b[0;34m(\u001b[0m\u001b[0;34mf\"Digite o {x}º numero: \"\u001b[0m\u001b[0;34m)\u001b[0m \u001b[0;32mfor\u001b[0m \u001b[0mx\u001b[0m \u001b[0;32min\u001b[0m \u001b[0mrange\u001b[0m\u001b[0;34m(\u001b[0m\u001b[0;36m1\u001b[0m\u001b[0;34m,\u001b[0m \u001b[0;36m6\u001b[0m\u001b[0;34m)\u001b[0m\u001b[0;34m]\u001b[0m\u001b[0;34m\u001b[0m\u001b[0;34m\u001b[0m\u001b[0m\n\u001b[1;32m      4\u001b[0m \u001b[0;34m\u001b[0m\u001b[0m\n\u001b[1;32m      5\u001b[0m \u001b[0mprint\u001b[0m\u001b[0;34m(\u001b[0m\u001b[0;34mf'O maior numero é {max(get_cinco_numeros())}'\u001b[0m\u001b[0;34m)\u001b[0m\u001b[0;34m\u001b[0m\u001b[0;34m\u001b[0m\u001b[0m\n",
            "\u001b[0;31mNameError\u001b[0m: name 'maybe_number' is not defined"
          ]
        }
      ]
    },
    {
      "cell_type": "markdown",
      "metadata": {
        "id": "6b-i2hDOY52h",
        "colab_type": "text"
      },
      "source": [
        "**2** Faça um programa que leia 5 números e informe a soma e a média dos números."
      ]
    },
    {
      "cell_type": "code",
      "metadata": {
        "id": "fYXikEBQY52i",
        "colab_type": "code",
        "colab": {
          "base_uri": "https://localhost:8080/",
          "height": 181
        },
        "outputId": "55e85a11-d145-4d02-feb7-baaa41d42455"
      },
      "source": [
        "## solução\n",
        "(lambda x: print(f'----------\\nSoma: {sum(x)} \\nMedia: {sum(x)/len(x)}'))(get_cinco_numeros())\n"
      ],
      "execution_count": 2,
      "outputs": [
        {
          "output_type": "error",
          "ename": "NameError",
          "evalue": "ignored",
          "traceback": [
            "\u001b[0;31m---------------------------------------------------------------------------\u001b[0m",
            "\u001b[0;31mNameError\u001b[0m                                 Traceback (most recent call last)",
            "\u001b[0;32m<ipython-input-2-c9d1f3d09657>\u001b[0m in \u001b[0;36m<module>\u001b[0;34m()\u001b[0m\n\u001b[1;32m      1\u001b[0m \u001b[0;31m## solução\u001b[0m\u001b[0;34m\u001b[0m\u001b[0;34m\u001b[0m\u001b[0;34m\u001b[0m\u001b[0m\n\u001b[0;32m----> 2\u001b[0;31m \u001b[0;34m(\u001b[0m\u001b[0;32mlambda\u001b[0m \u001b[0mx\u001b[0m\u001b[0;34m:\u001b[0m \u001b[0mprint\u001b[0m\u001b[0;34m(\u001b[0m\u001b[0;34mf'----------\\nSoma: {sum(x)} \\nMedia: {sum(x)/len(x)}'\u001b[0m\u001b[0;34m)\u001b[0m\u001b[0;34m)\u001b[0m\u001b[0;34m(\u001b[0m\u001b[0mget_cinco_numeros\u001b[0m\u001b[0;34m(\u001b[0m\u001b[0;34m)\u001b[0m\u001b[0;34m)\u001b[0m\u001b[0;34m\u001b[0m\u001b[0;34m\u001b[0m\u001b[0m\n\u001b[0m",
            "\u001b[0;31mNameError\u001b[0m: name 'get_cinco_numeros' is not defined"
          ]
        }
      ]
    },
    {
      "cell_type": "markdown",
      "metadata": {
        "id": "G4J3V1zmY52l",
        "colab_type": "text"
      },
      "source": [
        "**3** Faça um programa que imprima na tela apenas os números ímpares entre 1 e 50."
      ]
    },
    {
      "cell_type": "code",
      "metadata": {
        "id": "QqKL7y6kY52m",
        "colab_type": "code",
        "colab": {
          "base_uri": "https://localhost:8080/",
          "height": 34
        },
        "outputId": "daf44734-0293-4e5b-e932-d022eccebf2a"
      },
      "source": [
        "## solução\n",
        "print(f'Numeros ímpares entre 1 e 50: {(lambda: [x for x in range(1,51) if not(x % 2 == 0)])()}')\n"
      ],
      "execution_count": 3,
      "outputs": [
        {
          "output_type": "stream",
          "text": [
            "Numeros ímpares entre 1 e 50: [1, 3, 5, 7, 9, 11, 13, 15, 17, 19, 21, 23, 25, 27, 29, 31, 33, 35, 37, 39, 41, 43, 45, 47, 49]\n"
          ],
          "name": "stdout"
        }
      ]
    },
    {
      "cell_type": "markdown",
      "metadata": {
        "id": "TtHlbYbMY52p",
        "colab_type": "text"
      },
      "source": [
        "**4** Desenvolva um gerador de tabuada, capaz de gerar a tabuada de qualquer número inteiro entre 1 a 10. O usuário deve informar de qual numero ele deseja ver a tabuada. A saída deve ser conforme o exemplo abaixo:\n",
        "\n",
        "```\n",
        "Tabuada de 5:\n",
        "5 X 1 = 5\n",
        "5 X 2 = 10\n",
        "...\n",
        "5 X 10 = 50\n",
        "```"
      ]
    },
    {
      "cell_type": "code",
      "metadata": {
        "id": "--XLPgIGY52q",
        "colab_type": "code",
        "colab": {}
      },
      "source": [
        "## solução\n",
        "for i, x in enumerate((lambda: maybe_entre_numeros(0, 10)(lambda x: [x * i for i in range(1, 11)])())()):\n",
        "    if i == 0:\n",
        "        print(f'Tabuada de {x}: ')\n",
        "        y = x\n",
        "    print(f'{y} X {i} = {x}')\n",
        "\n"
      ],
      "execution_count": 0,
      "outputs": []
    },
    {
      "cell_type": "markdown",
      "metadata": {
        "id": "roIfhyNZY52t",
        "colab_type": "text"
      },
      "source": [
        "**5** Faça um programa que calcule o fatorial de um número inteiro fornecido pelo usuário. Ex.: 5!=5.4.3.2.1=120"
      ]
    },
    {
      "cell_type": "code",
      "metadata": {
        "id": "hqT_WDwlY52t",
        "colab_type": "code",
        "colab": {}
      },
      "source": [
        "## solução\n",
        "from functools import reduce\n",
        "\n",
        "fatorial = lambda numero: reduce(lambda a, b: a * b, [i for i in range(1, numero+1)])\n",
        "\n",
        "x = get_numero(\"Digite o numero que deseja calcular o fatorial: \")\n",
        "\n",
        "print(f'{x}! = {fatorial(x)}')\n"
      ],
      "execution_count": 0,
      "outputs": []
    },
    {
      "cell_type": "markdown",
      "metadata": {
        "id": "4NKLzbkBY52y",
        "colab_type": "text"
      },
      "source": [
        "**6** Faça um programa que receba o valor de uma dívida e mostre uma tabela com os seguintes dados: valor da dívida, valor dos juros, quantidade de parcelas e valor da parcela.\n",
        "Os juros e a quantidade de parcelas seguem a tabela abaixo:\n",
        "Quantidade de Parcelas  % de Juros sobre o valor inicial da dívida\n",
        "```\n",
        "1       0\n",
        "3       10\n",
        "6       15\n",
        "9       20\n",
        "12      25\n",
        "\n",
        "Exemplo de saída do programa:\n",
        "\n",
        "Valor da Dívida Valor dos Juros Quantidade de Parcelas  Valor da Parcela\n",
        "R$ 1.000,00     0               1                       R$  1.000,00\n",
        "R$ 1.100,00     100             3                       R$    366,00\n",
        "R$ 1.150,00     150             6                       R$    191,67\n",
        "```"
      ]
    },
    {
      "cell_type": "code",
      "metadata": {
        "id": "SgJ8VtR9Y52z",
        "colab_type": "code",
        "colab": {}
      },
      "source": [
        "## solução\n",
        "valor_divida = float(input(\"Digite o valor da divida: \"))\n",
        "print('Valor da Dívida', 'Valor dos Juros', 'Quantidade de Parcelas', 'Valor da Parcela', sep=\"\\t\")\n",
        "[\n",
        "    print(\n",
        "        f'{(valor_divida * (1+juros/100))}\\t{juros}\\t\\t{parcelas}\\t\\t\\t{(valor_divida * (1+juros/100)/parcelas)}'\n",
        "    )\n",
        "    for parcelas, juros in [\n",
        "        [1, 0],\n",
        "        [3, 10],\n",
        "        [6, 15],\n",
        "        [9, 20],\n",
        "        [12, 25]\n",
        "    ]\n",
        "]\n",
        "print()\n"
      ],
      "execution_count": 0,
      "outputs": []
    },
    {
      "cell_type": "markdown",
      "metadata": {
        "id": "G3RmxyNWY523",
        "colab_type": "text"
      },
      "source": [
        "**7** Faça um programa que mostre os n termos da Série a seguir:\n",
        "  S = 1/1 + 2/3 + 3/5 + 4/7 + 5/9 + ... + n/m. \n",
        "Imprima no final a soma da série."
      ]
    },
    {
      "cell_type": "code",
      "metadata": {
        "id": "TmVUKQwlY524",
        "colab_type": "code",
        "colab": {}
      },
      "source": [
        "## solução\n",
        "n = int(input(\"Digite até onde a série irá: \"))\n",
        "\n",
        "b = 1\n",
        "s = ''\n",
        "soma = 0\n",
        "\n",
        "for a in range(1, n + 1):\n",
        "    s += f'{a}/{b}'\n",
        "    if a != n:\n",
        "        s += ' + '\n",
        "    soma += a/b\n",
        "    a += 1 \n",
        "    b += 2\n",
        "    \n",
        "print(f'S = {s} \\nSoma = {soma}')\n"
      ],
      "execution_count": 0,
      "outputs": []
    },
    {
      "cell_type": "markdown",
      "metadata": {
        "id": "PdsPPi1yY526",
        "colab_type": "text"
      },
      "source": [
        "**8 Mesma letra:** Escreva uma função que receba uma string com duas palavras e retorne True se ambas palavras começarem com a mesma letra. Exemplo:\n",
        "```\n",
        "mesma_letra('Cão covarde') -> True\n",
        "mesma_letra('Vira Lata') -> False\n",
        "```"
      ]
    },
    {
      "cell_type": "code",
      "metadata": {
        "id": "H5A60A9vY527",
        "colab_type": "code",
        "colab": {}
      },
      "source": [
        "## solução\n",
        "\n",
        "ml = lambda: mesma_letra('cão covarde')\n",
        "ml()"
      ],
      "execution_count": 0,
      "outputs": []
    },
    {
      "cell_type": "markdown",
      "metadata": {
        "id": "BDvmSnBcY529",
        "colab_type": "text"
      },
      "source": [
        "**9 Mestre Yoda:** Dada uma sentença, a função deve retornar a sentença com as palavras na ordem reversa. Exemplo:\n",
        "```\n",
        "mestre_yoda('Eu estou em casa') --> 'casa em estou Eu'\n",
        "mestre_yoda('Estamos prontos') --> 'prontos Estamos'\n",
        "```"
      ]
    },
    {
      "cell_type": "code",
      "metadata": {
        "id": "Ybn2xnqwY52-",
        "colab_type": "code",
        "colab": {}
      },
      "source": [
        "## solução\n",
        "my = lambda: mestre_yoda('Estou em casa')\n",
        "my()\n",
        "\n"
      ],
      "execution_count": 0,
      "outputs": []
    },
    {
      "cell_type": "markdown",
      "metadata": {
        "id": "hERVLhRQY53B",
        "colab_type": "text"
      },
      "source": [
        "**10 Espião:** Escreva uma função que receba uma lista de inteiros e retorne True se contém um 007 em ordem, mesmo que não contínuo. Exemplo:\n",
        "```\n",
        "espiao([1,2,4,0,0,7,5]) --> True\n",
        "espiao([1,0,2,4,0,5,7]) --> True\n",
        "espiao([1,7,2,4,0,5,0]) --> False\n",
        "```"
      ]
    },
    {
      "cell_type": "code",
      "metadata": {
        "id": "lli8JN6QY53C",
        "colab_type": "code",
        "colab": {}
      },
      "source": [
        "## solução\n",
        "esp = lambda: espiao([1,2,4,0,0,7,5])\n",
        "esp()\n"
      ],
      "execution_count": 0,
      "outputs": []
    }
  ]
}